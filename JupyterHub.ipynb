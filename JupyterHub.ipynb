{
 "cells": [
  {
   "cell_type": "markdown",
   "metadata": {},
   "source": [
    "# JupyterHub"
   ]
  },
  {
   "cell_type": "markdown",
   "metadata": {},
   "source": [
    "JupyterHub, Jupyter Notebook'u birden çok kullanıcıya sunmanın en iyi yoludur.Kullanıcılara kurulum ve bakım görevleri ile uğraşmadan hesaplama ortamlarına ve kaynaklara erişim sağlar. \n",
    "\n",
    "Öğrenciler, araştırmacılar ve veri bilimcileri de dahil olmak üzere kullanıcılar, çalışmalarını sistem yöneticileri tarafından verimli bir şekilde yönetilebilen paylaşılan kaynaklar üzerindeki kendi çalışma alanlarında yapabilirler.JupyterHub bulutta veya kendi donanımınızda çalışır ve dünyadaki herhangi bir kullanıcıya önceden yapılandırılmış bir veri bilimi ortamı sunmayı mümkün kılar.Özelleştirilebilir ve ölçeklenebilir ve küçük ve büyük takımlar, akademik kurslar ve büyük ölçekli altyapı için uygundur.\n",
    "\n",
    "Tek kullanıcılı Jupyter dizüstü sunucusunun birden çok örneğini üreten, yöneten ve proxy(bir siteye bağlanmak için başka bir kanaldan geçmeye yarayan bir araçtır) kullanan çok kullanıcılı bir merkezdir.\n",
    "\n",
    "### JupyterHub Dağıtımı\n",
    "\n",
    "Jupyter Topluluğu, bulutta dağıtmak için iki **JupyterHub Dağıtımını** seçer.\n",
    "\n",
    "##### 1. The Littlest JupyterHub\n",
    "\n",
    "Daha küçük dağıtımlar için tasarlanmış yeni ve gelişen bir dağıtım olan Littlest JupyterHub, JupyterHub'ı tek bir sanal makineye kurmak için hafif bir yöntemdir.Littlest JupyterHub (TLJH olarak da bilinir), çeşitli bulut sağlayıcılarında VM oluşturma ve ayrıca kullanıcıların genel bir URL'den erişebilmeleri için JupyterHub'ı yükleme ve özelleştirme hakkında bilgi içeren bir rehber sunar.Az sayıda kullanıcı (0-100) ve tek bir sunucu için basit bir kasaya ihtiyacınız varsa, Littlest JupyterHub dağıtımı hakkındaki [github reposunu](https://github.com/jupyterhub/the-littlest-jupyterhub) inceleyebilirsiniz. Littlest JupyterHub hakkında daha fazla bilgi için [buraya](http://tljh.jupyter.org/en/latest/) tıklayabilirsiniz.  \n",
    "\n",
    "##### 2. Zero to JupyterHub for Kubernetes\n",
    "\n",
    "Kubernetes için Zero'dan JupyterHub'a Docker kullanarak Kubernetes üzerinde JupyterHub dağıtarak çok sayıda kullanıcı için etkili bir şekilde ölçeklendirilmesine ve korunmasına olanak tanır.Zero to JupyterHub, JupyterHub'ı hızlı bir şekilde dağıtmak için bir Helm Grafiği ve ayrıca Kubupes'te JupyterHub'ınızı dağıtmak ve yapılandırmak için bir kılavuzdur.Daha fazla kullanıcıya izin vermeniz gerekiyorsa, bir bulutta dinamik miktarda sunucu kullanılabilirsiniz, bu konuda bilgi almak için Kubernetes ile Zero'dan JupyterHub hakkındaki [github reposunu](https://github.com/jupyterhub/zero-to-jupyterhub-k8s) inceleyebilirsiniz.Zero to JupyterHub for Kubernetes hakkında daha fazla bilgi için [buraya](https://zero-to-jupyterhub.readthedocs.io/en/latest/) tıklayabilirsiniz."
   ]
  },
  {
   "cell_type": "markdown",
   "metadata": {},
   "source": [
    "\n",
    "\n",
    "JupyterHub'ı dört alt sistem oluşturur:\n",
    "\n",
    "- JupyterHub'ın kalbi olan bir **Hub** (tornado process)\n",
    "- istemcinin tarayıcısından istekleri alan **yapılandırılabilir bir http proxy** (node-http-proxy)\n",
    "- Spawners tarafından izlenen **birden çok tek kullanıcılı Jupyter dizüstü sunucusu** (Python / IPython / tornado)\n",
    "- kullanıcıların sisteme nasıl erişebileceğini yöneten bir **kimlik doğrulama sınıfı**\n",
    "\n",
    "Bu merkezi parçaların yanı sıra, config.py dosyası aracılığıyla isteğe bağlı yapılandırmalar ekleyebilir ve yönetici panelinde kullanıcı çekirdeklerini yönetebilirsiniz.Aşağıdaki şekilde tüm sistemin basitleştirilmesi görülebilir:\n",
    "\n",
    "![jhub-fluxogram](https://user-images.githubusercontent.com/61363621/77852260-53c41e80-71e6-11ea-919c-56d8db0ad818.jpeg)\n",
    "\n",
    "JupyterHub aşağıdaki işlevleri gerçekleştirir:\n",
    "\n",
    "- Hub bir proxy başlatır\n",
    "- Proxy, tüm istekleri varsayılan olarak Hub'a iletir\n",
    "- Hub kullanıcı girişini yönetir ve istek üzerine tek kullanıcılı sunucuları oluşturur\n",
    "- Hub, proxy'yi URL öneklerini tek kullanıcılı dizüstü bilgisayar sunucularına iletecek şekilde yapılandırır\n",
    "\n",
    "Hub'ın, kullanıcılarının ve hizmetlerinin rahat yönetimi için JupyterHub ayrıca bir [REST API](http://petstore.swagger.io/?url=https://raw.githubusercontent.com/jupyterhub/jupyterhub/master/docs/rest-api.yml#/default)'sı sağlar.\n",
    "\n",
    "#### JupyterHub'in Başlıca Özellikleri\n",
    "\n",
    "- **Özelleştirilebilir**: JupyterHub çeşitli ortamlara hizmet etmek için kullanılabilir.Jupyter sunucusuyla onlarca çekirdeği destekler ve Jupyter Notebook, Jupyter Lab, RStudio, nteract ve daha fazlası dahil olmak üzere çeşitli kullanıcı arabirimlerine hizmet etmek için kullanılabilir.\n",
    "\n",
    "- **Esnek**: JupyterHub, bir kullanıcı alt kümesine erişim sağlamak için kimlik doğrulama ile yapılandırılabilir.Kimlik doğrulama, takılabilir ve bir dizi kimlik doğrulama protokolünü destekler (OAuth ve GitHub gibi).\n",
    "\n",
    "-  **Ölçeklenebilir**: JupyterHub konteyner dostudur ve günümüzün konteyner teknolojisi ile kullanılabilir.Ayrıca Kubernetes üzerinde çalışır ve on binlerce kullanıcıya kadar çalışabilir.\n",
    "\n",
    "- **Taşınabilir**: JupyterHub tamamen açık kaynaklıdır ve çeşitli altyapılarda çalışacak şekilde tasarlanmıştır.Bu, ticari bulut sağlayıcılarını, sanal makineleri ve hatta kendi dizüstü bilgisayar donanımınızı içerir.\n",
    "\n",
    "Temel JupyterHub kodu ve teknolojisi [JupyterHub reposunda](https://github.com/jupyterhub/jupyterhub) bulunabilir.JupyterHub'ın iç bileşenleri, özelleştirilmesi ve yapılandırması hakkında daha fazla bilgi sahibi bulmak için [buraya](https://jupyterhub.readthedocs.io/en/stable/) tıklyabilirsiniz.\n",
    "\n",
    "\n",
    "#### Topluluğa Katıl\n",
    "\n",
    "Tüm Jupyter Projesi çabaları gibi JupyterHub da açık kaynaklı ve topluluk odaklı bir projedir. Topluluğa katılabilir ve kod, zaman, yorumlar yaparak katkıda bulunabilirsiniz.[JupyterHub Gitter Channel](https://gitter.im/jupyterhub/jupyterhub), tıklayarak JupyterHub topluluğunu katılabilirsiniz."
   ]
  },
  {
   "cell_type": "markdown",
   "metadata": {},
   "source": [
    "## JupyterHub Kurulumu"
   ]
  },
  {
   "cell_type": "markdown",
   "metadata": {},
   "source": [
    "Bu kadar özelliğinden bahsettikten sonra JupyterHub'ın sadece Linux ve Unix işletim sistemlerine kurulabileceğini söylemek üzücü. Linux ve Unix işletim sistemi kullanlar [buraya](https://jupyterhub.readthedocs.io/en/stable/quickstart.html) tıklayarak kurulumun nasıl yapıldığını görebilirsiniz. Kurulumda Türkçe kaynak olsa daha iyi olur derseniz [buraya](https://medium.com/@sengonulserkan/veri-bilimcilerin-g%C3%BC%C3%A7l%C3%BC-tak%C4%B1m-arkada%C5%9F%C4%B1-jupyterhub-224b05ace8d4) tıklayarak kurulumun nasıl olması gerektiğini görebilirsiniz."
   ]
  }
 ],
 "metadata": {
  "kernelspec": {
   "display_name": "Python 3",
   "language": "python",
   "name": "python3"
  },
  "language_info": {
   "codemirror_mode": {
    "name": "ipython",
    "version": 3
   },
   "file_extension": ".py",
   "mimetype": "text/x-python",
   "name": "python",
   "nbconvert_exporter": "python",
   "pygments_lexer": "ipython3",
   "version": "3.7.4"
  }
 },
 "nbformat": 4,
 "nbformat_minor": 2
}
