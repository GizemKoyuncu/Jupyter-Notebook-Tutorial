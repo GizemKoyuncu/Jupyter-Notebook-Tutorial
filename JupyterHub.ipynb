{
 "cells": [
  {
   "cell_type": "markdown",
   "metadata": {},
   "source": [
    "# JupyterHub"
   ]
  },
  {
   "cell_type": "markdown",
   "metadata": {},
   "source": [
    "JupyterHub, Jupyter Notebook'u birden çok kullanıcıya sunmanın en iyi yoludur.Kullanıcılara kurulum ve bakım görevleri ile uğraşmadan hesaplama ortamlarına ve kaynaklara erişim sağlar. \n",
    "\n",
    "Öğrenciler, araştırmacılar ve veri bilimcileri de dahil olmak üzere kullanıcılar, çalışmalarını sistem yöneticileri tarafından verimli bir şekilde yönetilebilen paylaşılan kaynaklar üzerindeki kendi çalışma alanlarında yapabilirler.JupyterHub bulutta veya kendi donanımınızda çalışır ve dünyadaki herhangi bir kullanıcıya önceden yapılandırılmış bir veri bilimi ortamı sunmayı mümkün kılar.Özelleştirilebilir ve ölçeklenebilir ve küçük ve büyük takımlar, akademik kurslar ve büyük ölçekli altyapı için uygundur.\n",
    "\n",
    "Tek kullanıcılı Jupyter dizüstü sunucusunun birden çok örneğini üreten, yöneten ve proxy(bir siteye bağlanmak için başka bir kanaldan geçmeye yarayan bir araçtır) kullanan çok kullanıcılı bir merkezdir.\n",
    "\n",
    "### JupyterHub Dağıtımı\n",
    "\n",
    "Jupyter Topluluğu, bulutta dağıtmak için iki **JupyterHub Dağıtımını** seçer.\n",
    "\n",
    " 1. The Littlest JupyterHub\n",
    "\n",
    "Daha küçük dağıtımlar için tasarlanmış yeni ve gelişen bir dağıtım olan Littlest JupyterHub, JupyterHub'ı tek bir sanal makineye kurmak için hafif bir yöntemdir.Littlest JupyterHub (TLJH olarak da bilinir), çeşitli bulut sağlayıcılarında VM oluşturma ve ayrıca kullanıcıların genel bir URL'den erişebilmeleri için JupyterHub'ı yükleme ve özelleştirme hakkında bilgi içeren bir rehber sunar.Az sayıda kullanıcı (0-100) ve tek bir sunucu için basit bir kasaya ihtiyacınız varsa, Littlest JupyterHub dağıtımı hakkındaki [github reposunu](https://github.com/jupyterhub/the-littlest-jupyterhub) inceleyebilirsiniz. Littlest JupyterHub hakkında daha fazla bilgi için [buraya](http://tljh.jupyter.org/en/latest/) tıklayabilirsiniz.  \n",
    "\n",
    " 2. Zero to JupyterHub for Kubernetes\n",
    "\n",
    "Kubernetes için Zero'dan JupyterHub'a Docker kullanarak Kubernetes üzerinde JupyterHub dağıtarak çok sayıda kullanıcı için etkili bir şekilde ölçeklendirilmesine ve korunmasına olanak tanır.Zero to JupyterHub, JupyterHub'ı hızlı bir şekilde dağıtmak için bir Helm Grafiği ve ayrıca Kubupes'te JupyterHub'ınızı dağıtmak ve yapılandırmak için bir kılavuzdur.Daha fazla kullanıcıya izin vermeniz gerekiyorsa, bir bulutta dinamik miktarda sunucu kullanılabilirsiniz, bu konuda bilgi almak için Kubernetes ile Zero'dan JupyterHub hakkındaki [github reposuna](https://github.com/jupyterhub/zero-to-jupyterhub-k8s) inceleyebilirsiniz.Zero to JupyterHub for Kubernetes hakkında daha fazla bilgi için [buraya](https://zero-to-jupyterhub.readthedocs.io/en/latest/) tıklayabilirsiniz."
   ]
  }
 ],
 "metadata": {
  "kernelspec": {
   "display_name": "Python 3",
   "language": "python",
   "name": "python3"
  },
  "language_info": {
   "codemirror_mode": {
    "name": "ipython",
    "version": 3
   },
   "file_extension": ".py",
   "mimetype": "text/x-python",
   "name": "python",
   "nbconvert_exporter": "python",
   "pygments_lexer": "ipython3",
   "version": "3.7.4"
  }
 },
 "nbformat": 4,
 "nbformat_minor": 2
}
