{
 "cells": [
  {
   "cell_type": "markdown",
   "metadata": {},
   "source": [
    "# JupyterHub Tutorial"
   ]
  },
  {
   "cell_type": "markdown",
   "metadata": {},
   "source": [
    "JupyterHub kurulumu nasıl yapılır? Gerçekten 3-4 kişi bir projede etkilişimli çalışabiliyor mu? öğrenmek için JupyterHub ortamını sağlayacağız bu repoda. \n",
    "\n",
    "Normalde yazının ilk başında JupyterHub'ın sitesinden sistem gerekliliklerini inceleyecektik ama sunucuya ihtiyacım olduğunu bildiğim için başvuru ile işe başladım. Öncelikle JupyterHub'da bir projeyi bir kaç kullanıcı ile paylaşmak için bulut sunucuya ihtiyaç olduğundan ve ücretsiz bu hizmeti sağlayacağım bir paket  olan GitHub - [Student Developer Pack](https://education.github.com/pack)'e başvuruda bulundum. Bu paket içerisinde bana verilen DigitalOcean'dan bulut server ihtiyacımı karşılayacağım. Student Pack Devoloper Pack nedir, diyorsanız [buraya](https://mustafamasa.com/github-student-developer-pack-94a17a0bc373) tıklayarak detaylı bilgi alabilirsiniz. "
   ]
  },
  {
   "cell_type": "markdown",
   "metadata": {},
   "source": [
    "[JupyterHub](https://jupyterhub.readthedocs.io/en/stable/) 'ın sitesindeki en detaylı kurulum kılavuzunu baz alarak repoyu hazılıyorum, [buraya](https://jupyterhub.readthedocs.io/en/stable/installation-guide-hard.html) tıklayarak ilgili kılavuzu görebilirsiniz.\n",
    "\n",
    "### JupyterHub ve JupyterLab'ı sıfırdan yükleyin\n",
    "\n",
    "JupyterHub ve JupyterLabı birlikte kullanılmasıyla ortak çalışmak daha kolay hale gelir. Bu tutorial ile temiz bir şekilde JupyterLab ve JupyterHub kurulumunu gerçekleştireceğiz. The Littlest JupyterHub kurulumuna benzer hedeflere sahiptir. Her adımı manuel olarak gerçekleştireceğiz. \n",
    "\n",
    "### Ön Şartlar\n",
    "\n",
    "Yönetici (kök) erişimine sahip kendi sunucunuz olmalı. Bu, yerel bir makine, bu toturial için uzaktan barındırılan bir sunucu olan DigitalOcean olacak. JupyterHub'a erişecek her kullanıcının makinede standart bir kullanıcı hesabı olması gerekir.Kurulumu, komut satırından yapılacağız.\n",
    "\n",
    "**Not:** Bu tutorial Ubuntu 18.04'te test edildi. Başka hiçbir Linux dağıtımı test edilmemiştir, ancak talimatlar uygulandığında çalışması beklenmektedir.\n",
    "\n",
    "### Hedefler\n",
    "\n",
    "JupyterLab, her biri belirli bir dil için belirli bir ortam olan birden çok \"çekirdeğe\" erişim sağlar. En yaygın olanı, genellikle conda paket yöneticisi tarafından yönetilen bilimsel hesaplama için bir Python ortamıdır.\n",
    "\n",
    "Bu kılavuz, JupyterHub ve JupyterLab'ı Python ortamından ayrı olarak kuracaktır.Başka bir deyişle, JupyterHub + JupyterLab'ı, sistemdeki kullanılabilir çekirdeklere bağlanacak bir \"uygulama\" veya web hizmeti olarak ele alıyoruz. Özellikler:\n",
    "\n",
    "- Python sistemini kullanarak / opt altında bir virtualenv kullanarak bir JupyterHub ve JupyterLab kurulumu yapacağız.\n",
    "- Conda'yı global olarak kuracağız.\n",
    "- Tüm kullanıcılar tarafından kullanılabilen (ancak değiştirilemeyen) paylaşılan bir conda ortamı oluşturacağız.\n",
    "- Kullanıcıların istedikleri her şeyi kurabilecekleri kendi özel konda ortamlarını nasıl oluşturabileceklerini göstereceğiz.\n",
    "\n",
    "Varsayılan JupyterHub Authenticator, sistem kullanıcılarını kullanıcı adları ve parolalarıyla doğrulamak için PAM (Eklenebilir Kimlik Kanıtlama Modülleri) kullanır. Bu tutorialda varsayılan Kimlik Doğrulayıcı'yı kullanacağız, çünkü herkesin kendi klasörlerindeki verileri yönetmesini ve Linux sistemi kullanıcı hesaplarını kullanarak çalışan farklı hizmetleri ve erişim yöntemlerini (örneğin SSH) karıştırıp eşleştirmesini kolaylaştırır. Bu nedenle, her JupyterHub kullanıcısının standart bir sistem kullanıcı hesabına ihtiyacı olacaktır.\n",
    "\n",
    "Bu kılavuzun bir diğer amacı, mümkün olan yerlerde sistem tarafından sağlanan paketleri kullanmaktır.Bunun avantajı, bu paketlerin otomatik düzeltme ekleri ve güvenlik güncelleştirmeleri almasıdır (Ubuntu'da otomatik güncelleştirmeleri açtığınızdan emin olun). Bu daha güvenilir bir sistem anlamanına gelir.\n",
    "\n",
    "Şimdi Ubuntu'da otomatik güncelleştirmeler nasıl açılır bakalım.\n"
   ]
  }
 ],
 "metadata": {
  "kernelspec": {
   "display_name": "Python 3",
   "language": "python",
   "name": "python3"
  },
  "language_info": {
   "codemirror_mode": {
    "name": "ipython",
    "version": 3
   },
   "file_extension": ".py",
   "mimetype": "text/x-python",
   "name": "python",
   "nbconvert_exporter": "python",
   "pygments_lexer": "ipython3",
   "version": "3.7.4"
  }
 },
 "nbformat": 4,
 "nbformat_minor": 2
}
