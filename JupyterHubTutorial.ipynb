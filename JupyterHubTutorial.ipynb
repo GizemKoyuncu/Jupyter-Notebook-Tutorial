{
 "cells": [
  {
   "cell_type": "markdown",
   "metadata": {},
   "source": [
    "# JupyterHub Tutorial"
   ]
  },
  {
   "cell_type": "markdown",
   "metadata": {},
   "source": [
    "JupyterHub kurulumu nasıl yapılır? Gerçekten 3-4 kişi bir projede etkilişimli çalışabiliyor mu? öğrenmek için JupyterHub ortamını sağlayacağız bu repoda. \n",
    "\n",
    "Normalde yazının ilk başında JupyterHub'ın sitesinden sistem gerekliliklerini inceleyecektik ama sunucuya ihtiyacım olduğunu bildiğim için başvuru ile işe başladım. Öncelikle JupyterHub'da bir projeyi bir kaç kullanıcı ile paylaşmak için bulut sunucuya ihtiyaç olduğundan ve ücretsiz bu hizmeti sağlayacağım bir paket  olan GitHub - [Student Developer Pack](https://education.github.com/pack)'e başvuruda bulundum. Bu paket içerisinde bana verilen DigitalOcean'dan bulut server ihtiyacımı karşılayacağım. Student Pack Devoloper Pack nedir, diyorsanız [buraya](https://mustafamasa.com/github-student-developer-pack-94a17a0bc373) tıklayarak detaylı bilgi alabilirsiniz. "
   ]
  },
  {
   "cell_type": "markdown",
   "metadata": {},
   "source": [
    "[JupyterHub](https://jupyterhub.readthedocs.io/en/stable/) 'ın sitesindeki en detaylı kurulum kılavuzunu baz alarak repoyu hazılıyorum, [buraya](https://jupyterhub.readthedocs.io/en/stable/installation-guide-hard.html) tıklayarak ilgili kılavuzu görebilirsiniz.\n",
    "\n",
    "### JupyterHub ve JupyterLab'ı sıfırdan yükleyin\n",
    "\n",
    "JupyterHub ve JupyterLabı birlikte kullanılmasıyla ortak çalışmak daha kolay hale gelir. Bu tutorial ile temiz bir şekilde JupyterLab ve JupyterHub kurulumunu gerçekleştireceğiz. The Littlest JupyterHub kurulumuna benzer hedeflere sahiptir. Her adımı manuel olarak gerçekleştireceğiz. \n",
    "\n",
    "### Ön Şartlar\n",
    "\n",
    "Yönetici (kök) erişimine sahip kendi sunucunuz olmalı. Bu, yerel bir makine, bu toturial için uzaktan barındırılan bir sunucu olan DigitalOcean olacak. JupyterHub'a erişecek her kullanıcının makinede standart bir kullanıcı hesabı olması gerekir.Kurulumu, komut satırından yapılacağız.\n",
    "\n",
    "**Not:** Bu tutorial Ubuntu 18.04'te test edildi. Başka hiçbir Linux dağıtımı test edilmemiştir, ancak talimatlar uygulandığında çalışması beklenmektedir.\n",
    "\n",
    "### Hedefler\n",
    "\n",
    "JupyterLab, her biri belirli bir dil için belirli bir ortam olan birden çok \"çekirdeğe\" erişim sağlar. En yaygın olanı, genellikle conda paket yöneticisi tarafından yönetilen bilimsel hesaplama için bir Python ortamıdır.\n",
    "\n",
    "Bu kılavuz, JupyterHub ve JupyterLab'ı Python ortamından ayrı olarak kuracaktır.Başka bir deyişle, JupyterHub + JupyterLab'ı, sistemdeki kullanılabilir çekirdeklere bağlanacak bir \"uygulama\" veya web hizmeti olarak ele alıyoruz. Özellikler:\n",
    "\n",
    "- Python sistemini kullanarak / opt altında bir virtualenv kullanarak bir JupyterHub ve JupyterLab kurulumu yapacağız.\n",
    "- Conda'yı global olarak kuracağız.\n",
    "- Tüm kullanıcılar tarafından kullanılabilen (ancak değiştirilemeyen) paylaşılan bir conda ortamı oluşturacağız.\n",
    "- Kullanıcıların istedikleri her şeyi kurabilecekleri kendi özel konda ortamlarını nasıl oluşturabileceklerini göstereceğiz.\n",
    "\n",
    "Varsayılan JupyterHub Authenticator, sistem kullanıcılarını kullanıcı adları ve parolalarıyla doğrulamak için PAM (Eklenebilir Kimlik Kanıtlama Modülleri) kullanır. Bu tutorialda varsayılan Kimlik Doğrulayıcı'yı kullanacağız, çünkü herkesin kendi klasörlerindeki verileri yönetmesini ve Linux sistemi kullanıcı hesaplarını kullanarak çalışan farklı hizmetleri ve erişim yöntemlerini (örneğin SSH) karıştırıp eşleştirmesini kolaylaştırır. Bu nedenle, her JupyterHub kullanıcısının standart bir sistem kullanıcı hesabına ihtiyacı olacaktır.\n",
    "\n",
    "Bu kılavuzun bir diğer amacı, mümkün olan yerlerde sistem tarafından sağlanan paketleri kullanmaktır.Bunun avantajı, bu paketlerin otomatik düzeltme ekleri ve güvenlik güncelleştirmeleri almasıdır (Ubuntu'da otomatik güncelleştirmeleri açtığınızdan emin olun). Bu daha güvenilir bir sistem anlamanına gelir.\n",
    "\n",
    "Şimdi Ubuntu'da otomatik güncelleştirmeyi nasıl açıacağını öğrenmek için [buraya](https://ubuntutr.com/ubuntu-katilimsiz-guncelleme/) tıklayabilirsiniz."
   ]
  },
  {
   "cell_type": "markdown",
   "metadata": {},
   "source": [
    "## Part 1: JupyterHub and JupyterLab\n",
    "\n",
    "### Sanal Bir Ortamda JupyterHub ve JupyterLab Kurulumu\n",
    "\n",
    "İlk önce ‘/ opt / jupyterhub’ altında sanal bir ortam oluşturuyoruz. \"/ Opt\" klasörü, işletim sistemine ait olmayan uygulamaların yaygın olarak yüklendiği yerdir. Bu sanal ortama hem jupyterlab hem de jupyterhub kurulacaktır.\n",
    "Aşağıdaki komutu çalıştırarak başlıyoruz:\n",
    "\n",
    "> sudo python3 -m venv /opt/jupyterhub/\n",
    "\n",
    "Bu kodu çalıştırdığımda aşağıdaki ekran görüntüsüdeki hatayı aldım.\n",
    "\n",
    "![Screenshot from 2020-04-05 23-47-03](https://user-images.githubusercontent.com/61363621/78510251-9ebcd380-779c-11ea-89af-d95c4d44294a.png)\n",
    "\n",
    "\n",
    "DÜZELT: Hatayı araştırdığım python3-venv kurulu olmadığı için bu hata alındığını anladığım için kontrol ettim ve python3-venv kurulumunu gerçekleştirdim.\n",
    "\n",
    "![Screenshot from 2020-04-05 23-54-16](https://user-images.githubusercontent.com/61363621/78510259-abd9c280-779c-11ea-83f4-849b5435beb6.png)\n",
    "\n",
    "Ve komutu tekrar çalıştırdım herhangi bir hata almadım.\n",
    "Şimdi pip'i gerekli Python paketlerini yeni sanal ortama kurmak için kullanıyoruz. Önce wheel kurduğunuzdan emin olun. Kullanıcı arayüzünü bilgi işlem çekirdeklerinden ayırdığımızdan, buraya herhangi bir Python bilimsel paketi yüklemiyoruz. Tek istisna ipywidgets, çünkü bu çekirdekte çalışan etkileşimli araçlar ile kullanıcı arabirimi arasında bağlantıya izin vermek için gereklidir.\n",
    "\n",
    "**Not**:Her seferinde / opt / jupyterhub / bin / python3 -m pip install kullandığımızı unutmayın - bu, paketlerin doğru sanal ortama yüklendiğinden emin olur.\n",
    "\n",
    "Aşağıdaki komutları kullanarak kurulumu gerçekleştirelim:\n",
    "\n",
    ">sudo /opt/jupyterhub/bin/python3 -m pip install wheel\n",
    "\n",
    ">sudo /opt/jupyterhub/bin/python3 -m pip install jupyterhub jupyterlab\n",
    "\n",
    ">sudo /opt/jupyterhub/bin/python3 -m pip install ipywidgets\n",
    "\n",
    "İlk komutu çalıştırdıktan sonra aşağıdaki hatayı aldım, hatanın sebebini araştırdım ve virtualenv kurulumunu gerçekleştirdim. Bu hatayla ilgili sudo izinleri genel sistem çapında Python için genel bir şeyler yüklemek için kullanıldığını ve virtualenv ile daha sanal bir ortam oluşturulduğu yazıyordu. \n",
    "**Bu hatayı aldıktan sonra yaptığım işlem bu ancak gereksiz gibi çıkarılabilir.**\n",
    "\n",
    "![Screenshot from 2020-04-06 00-12-29](https://user-images.githubusercontent.com/61363621/78510275-c14eec80-779c-11ea-83d4-abe13679d2a5.png)\n",
    "\n",
    "Ancak bunu denecikten sonra yeniden kodu çalıştırdığımda aynı uyarıyı yine aldım. Uyarının ekran görüntüsü aşağıdadır.\n",
    "\n",
    "![Screenshot from 2020-04-06 00-16-33](https://user-images.githubusercontent.com/61363621/78510283-cd3aae80-779c-11ea-9e3f-b6832b2cc63c.png)\n",
    "\n",
    "Bu hatanın çözümü ile ilgili araştırmaya devam edeceğim."
   ]
  }
 ],
 "metadata": {
  "kernelspec": {
   "display_name": "Python 3",
   "language": "python",
   "name": "python3"
  },
  "language_info": {
   "codemirror_mode": {
    "name": "ipython",
    "version": 3
   },
   "file_extension": ".py",
   "mimetype": "text/x-python",
   "name": "python",
   "nbconvert_exporter": "python",
   "pygments_lexer": "ipython3",
   "version": "3.7.4"
  }
 },
 "nbformat": 4,
 "nbformat_minor": 2
}
