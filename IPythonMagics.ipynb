{
 "cells": [
  {
   "cell_type": "markdown",
   "metadata": {},
   "source": [
    "## IPython Sihirli İfadeler"
   ]
  },
  {
   "cell_type": "markdown",
   "metadata": {},
   "source": [
    "IPython, etkileşimli olarak rahat ve verimli çalışmayı sağlayan Python programlama diline komutlar sunar. IPython Notebook aslında Jupyter Notebook'un önceki verisyonu diyebiliriz.Jupyter özelliklerini IPython‘dan alınmış, ve yorumlanabilir herhangi birden fazla dili destekleyecek şekilde geliştirilmiştir. Hatta Jupyter adı, tasarlandığı üç temel dilin dolaylı bir kısaltmasıdır: **JU**lia, **PYT**hon ve **R** ve Jupiter gezegeninden esinlenilmiştir. Jupyter IPythonın özelliklerini devralmıştır. Bu dokümanda Jupyter‘in devraldığı IPython özelliklerinden biri de sihirli ifadeler (cell magics/script magic) denen bazı kolaylaştırıcı, özelleşmiş komutlardan bahsedeceğim."
   ]
  },
  {
   "cell_type": "markdown",
   "metadata": {},
   "source": [
    "Sihirli ifadeler IPython çekirdeğine özgü oldukları için sadece Python ile çalışırlar. Jupyter’in desteklediği diğer diller (R, Julia, vd.) şimdilik bu özelliğe sahip değiller."
   ]
  },
  {
   "cell_type": "markdown",
   "metadata": {},
   "source": [
    "1. Cell Magic\n"
   ]
  }
 ],
 "metadata": {
  "kernelspec": {
   "display_name": "Python 3",
   "language": "python",
   "name": "python3"
  },
  "language_info": {
   "codemirror_mode": {
    "name": "ipython",
    "version": 3
   },
   "file_extension": ".py",
   "mimetype": "text/x-python",
   "name": "python",
   "nbconvert_exporter": "python",
   "pygments_lexer": "ipython3",
   "version": "3.7.4"
  }
 },
 "nbformat": 4,
 "nbformat_minor": 2
}
