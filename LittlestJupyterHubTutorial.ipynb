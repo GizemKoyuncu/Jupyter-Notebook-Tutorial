{
 "cells": [
  {
   "attachments": {},
   "cell_type": "markdown",
   "metadata": {},
   "source": [
    "\n",
    "# Littlest Jupyterhub'ı Digital Ocean Üzerinde Kurma\n",
    "\n",
    "Bu tutorialda takip edeceğimiz tutorialı [buraya](http://tljh.jupyter.org/en/latest/install/digitalocean.html) tıklayarak görebilirsiniz.\n",
    "\n",
    "**Amacımız:** JupyterHub'ı Digital Ocean üzerinde kurarak, kullanıcı erişimlerini sağlamak ve Jupyterhub' ın kullanımını test etmektir.\n",
    "\n",
    "**Gereklikler:** Digital Oceanda bir hesabınız olmalı. Normalde ücret ödeyerek yararlanabilrsiniz hizmetlerinden ama öğrenciyseniz Github'ın öğrencilere ücretsiz olarak hazırladığı pakette Digital Ocean'a herhangi bir ödeme yapmadan faydalabilirsiniz. Aslında DigitalOcean size hediye bakiye veriyor, onu kullanıyorsunuz.\n",
    "\n",
    "**Not:** Sunucuya ihtiyacım olduğunu bildiğim için başvuru ile işe başladım. Öncelikle JupyterHub'da bir projeyi bir kaç kullanıcı ile paylaşmak için bulut sunucuya ihtiyaç olduğundan ve ücretsiz bu hizmeti sağlayacağım bir paket olan GitHub - Student Developer Pack'e başvuruda bulundum. Öğrenci mail adreasi ile başvuruda buşunduğunuz takdirde 1-2 saat içerinde olumlu bir geri dönüş alabilirsiniz. Student Devoloper Pack nedir, diyorsanız [buraya](https://education.github.com/pack) tıklayarak detaylı bilgi alabilirsiniz.\n",
    "\n",
    "### Step 0 : Student Devoloper Pack ve Digital Ocean'a Giriş\n",
    "\n",
    "**Gereklilikler:** Öğrenci olmak ve github hesabına sahip olmak.\n",
    "\n",
    "1. Student Devoloper Pack için başvuru yapmak\n",
    "\n",
    "Başvuru yapmak için [buraya](https://education.github.com/pack) tıklyabailirsiniz.\n",
    "\n",
    "![Screenshot_5](https://user-images.githubusercontent.com/61363621/79067780-8253f600-7cca-11ea-9d35-506846de4c13.png)\n",
    "\n",
    "Get Pack butonuna tıklıyoruz.\n",
    "\n",
    "Eğer github oturumunuz açık değilse Github kullanıcı adı/mail adresi ve şifrenizi girip devam ediniz. Eğer Github hesabınız yoksa bu aşamada da hesap oluşturabilirsiniz.\n",
    "\n",
    "![Screenshot_6](https://user-images.githubusercontent.com/61363621/79067786-8e3fb800-7cca-11ea-9178-f56c4715e14d.png)\n",
    "\n",
    "Giriş yaptıktan sonra,öğrenci kısmını işaretliyoruz.\n",
    "\n",
    "![Screenshot_7](https://user-images.githubusercontent.com/61363621/79068447-94846300-7ccf-11ea-916c-2460d3b78c65.png)\n",
    "\n",
    "Bu sayfada github hesabınızın mail adresi direkt olarak geliyor. Eğer bu mailiniz okul mail adresiniz değilse geri dönüşün hızlı olması için mutlaka github hesabınıza okul mail adresinizi ekleyin. Okulun mail asresini ekledikten sonra okul mail adresinize Githubın doğrulama maili geliyor. Maili doğruladıktan sonra mail seçeneği olarak gelen okul mail adresinizi seçip devam edebilirsiniz. Bu işlemler size uğraştırıcı geliyorsa github hesabınızı direkt okulun mail asresi ile açabilirsiniz.\n",
    "\n",
    "![Screenshot_8](https://user-images.githubusercontent.com/61363621/79068449-99e1ad80-7ccf-11ea-8c61-d2b65a1edd74.png)\n",
    "\n",
    "Son aşama olarak gerekli bilgileri uygun şekilde doldurunuz.\n",
    "\n",
    "![Screenshot_9](https://user-images.githubusercontent.com/61363621/79068451-9b12da80-7ccf-11ea-8152-da7ab5365723.png)\n",
    "\n",
    "Ben normalde kendi şahsi mail asresimle başvuru yaptım ve 6 gün bir dönüş alamadım. Altı günün sonunda istediğimi iptal edip okul mail adresimle tekrar başvuru yaptığımda 1-2 saat içerisinde dönüş aldım.\n",
    "\n",
    "![Screenshot_10](https://user-images.githubusercontent.com/61363621/79068584-b6321a00-7cd0-11ea-8929-5195833975b9.png)\n",
    "\n",
    "Olumlu geri dönüş sonrasında [siteye](https://education.github.com/pack)sitesine tekrar giriyoruz. \"Get Your Pack\" butonu ile paketimizin içeriğini almak üzere ilgili sayfaya yönlendiriliyoruz.\n",
    "\n",
    "![Screenshot_11](https://user-images.githubusercontent.com/61363621/79068622-fe513c80-7cd0-11ea-86d0-b7f1f1ed9eba.png)\n",
    "\n",
    "İşimizi Digital Ocean ile olduğu için, Digital Ocean kısmına gelip \"Offer Code\"umuzu almak üzere linke tıklıyoruz ve kodumuzu alıyoruz.\n",
    "\n",
    "![Screenshot_12](https://user-images.githubusercontent.com/61363621/79068669-57b96b80-7cd1-11ea-88dc-fb88c2e3cfd2.png)\n"
   ]
  }
 ],
 "metadata": {
  "kernelspec": {
   "display_name": "Python 3",
   "language": "python",
   "name": "python3"
  },
  "language_info": {
   "codemirror_mode": {
    "name": "ipython",
    "version": 3
   },
   "file_extension": ".py",
   "mimetype": "text/x-python",
   "name": "python",
   "nbconvert_exporter": "python",
   "pygments_lexer": "ipython3",
   "version": "3.7.4"
  }
 },
 "nbformat": 4,
 "nbformat_minor": 2
}
