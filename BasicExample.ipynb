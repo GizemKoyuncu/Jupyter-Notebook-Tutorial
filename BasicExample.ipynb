{
 "cells": [
  {
   "cell_type": "markdown",
   "metadata": {},
   "source": [
    "#  Example"
   ]
  },
  {
   "cell_type": "markdown",
   "metadata": {},
   "source": [
    "<font color=darkred>Öncelikle \"Pandas Kütüphanesini\" ekleyerek başlıyoruz. Pandas kütüphanesi kullanımı kolay veri yapıları ve veri analiz araçları sağlayan açık kaynaklı bir kütüphanedir. Csv ve text dosyalarını açmaya ve  içerisinde bulunan verileri okuyarak istenen sonuca  kolayca ulaşmak için kullanılmaktadır. </font>\n"
   ]
  },
  {
   "cell_type": "code",
   "execution_count": 2,
   "metadata": {},
   "outputs": [],
   "source": [
    "import pandas as pd"
   ]
  },
  {
   "cell_type": "markdown",
   "metadata": {},
   "source": [
    "<font color=darkred> Pandas farklı veri formatlarını okuamaya olanak sağlar. Örneğimizde json formatınd bir veriyi okuyacağız. \n",
    "Verimiz df isminde bir DataFrame nesnesine dönüştü. </font>"
   ]
  },
  {
   "cell_type": "code",
   "execution_count": 3,
   "metadata": {},
   "outputs": [],
   "source": [
    "df = pd.read_json(\"https://data.smcgov.org/resource/mb6a-xn89.json\")"
   ]
  },
  {
   "cell_type": "markdown",
   "metadata": {},
   "source": [
    "<font color=darkred> df nesnemiz hakkında fikir edinelim. Toplamda kaç satır, sütun olduğunu, sütunlarımızın isimlerini,veri tiplerini, bellekte ne kadar yer kapladığı gibi bilgiler gözükmektedir. </font>"
   ]
  },
  {
   "cell_type": "code",
   "execution_count": 4,
   "metadata": {},
   "outputs": [
    {
     "name": "stdout",
     "output_type": "stream",
     "text": [
      "<class 'pandas.core.frame.DataFrame'>\n",
      "RangeIndex: 32 entries, 0 to 31\n",
      "Data columns (total 10 columns):\n",
      " #   Column                              Non-Null Count  Dtype  \n",
      "---  ------                              --------------  -----  \n",
      " 0   geography                           32 non-null     object \n",
      " 1   geography_type                      32 non-null     object \n",
      " 2   year                                32 non-null     object \n",
      " 3   less_than_high_school_graduate      32 non-null     float64\n",
      " 4   high_school_graduate                32 non-null     float64\n",
      " 5   some_college_or_associate_s_degree  32 non-null     float64\n",
      " 6   bachelor_s_degree_or_higher         32 non-null     float64\n",
      " 7   location_1                          32 non-null     object \n",
      " 8   :@computed_region_uph5_8hpn         30 non-null     float64\n",
      " 9   :@computed_region_i2t2_cryp         32 non-null     int64  \n",
      "dtypes: float64(5), int64(1), object(4)\n",
      "memory usage: 2.6+ KB\n"
     ]
    }
   ],
   "source": [
    "df.info()"
   ]
  },
  {
   "cell_type": "markdown",
   "metadata": {},
   "source": [
    "<font color=darkred> Verimizin ilk beş satırını görmek için head() fonksiyonu kullanılmıştır. </font>"
   ]
  },
  {
   "cell_type": "code",
   "execution_count": 5,
   "metadata": {},
   "outputs": [
    {
     "data": {
      "text/html": [
       "<div>\n",
       "<style scoped>\n",
       "    .dataframe tbody tr th:only-of-type {\n",
       "        vertical-align: middle;\n",
       "    }\n",
       "\n",
       "    .dataframe tbody tr th {\n",
       "        vertical-align: top;\n",
       "    }\n",
       "\n",
       "    .dataframe thead th {\n",
       "        text-align: right;\n",
       "    }\n",
       "</style>\n",
       "<table border=\"1\" class=\"dataframe\">\n",
       "  <thead>\n",
       "    <tr style=\"text-align: right;\">\n",
       "      <th></th>\n",
       "      <th>geography</th>\n",
       "      <th>geography_type</th>\n",
       "      <th>year</th>\n",
       "      <th>less_than_high_school_graduate</th>\n",
       "      <th>high_school_graduate</th>\n",
       "      <th>some_college_or_associate_s_degree</th>\n",
       "      <th>bachelor_s_degree_or_higher</th>\n",
       "      <th>location_1</th>\n",
       "      <th>:@computed_region_uph5_8hpn</th>\n",
       "      <th>:@computed_region_i2t2_cryp</th>\n",
       "    </tr>\n",
       "  </thead>\n",
       "  <tbody>\n",
       "    <tr>\n",
       "      <th>0</th>\n",
       "      <td>Atherton</td>\n",
       "      <td>Town</td>\n",
       "      <td>2014-01-01T00:00:00.000</td>\n",
       "      <td>13.6</td>\n",
       "      <td>12.3</td>\n",
       "      <td>2.7</td>\n",
       "      <td>3.5</td>\n",
       "      <td>{'type': 'Point', 'coordinates': [-122.2, 37.4...</td>\n",
       "      <td>2.0</td>\n",
       "      <td>28596</td>\n",
       "    </tr>\n",
       "    <tr>\n",
       "      <th>1</th>\n",
       "      <td>Colma</td>\n",
       "      <td>Town</td>\n",
       "      <td>2014-01-01T00:00:00.000</td>\n",
       "      <td>6.3</td>\n",
       "      <td>6.4</td>\n",
       "      <td>10.4</td>\n",
       "      <td>2.4</td>\n",
       "      <td>{'type': 'Point', 'coordinates': [-122.455556,...</td>\n",
       "      <td>4.0</td>\n",
       "      <td>28588</td>\n",
       "    </tr>\n",
       "    <tr>\n",
       "      <th>2</th>\n",
       "      <td>Foster City</td>\n",
       "      <td>City</td>\n",
       "      <td>2014-01-01T00:00:00.000</td>\n",
       "      <td>11.9</td>\n",
       "      <td>9.7</td>\n",
       "      <td>2.0</td>\n",
       "      <td>2.9</td>\n",
       "      <td>{'type': 'Point', 'coordinates': [-122.266389,...</td>\n",
       "      <td>6.0</td>\n",
       "      <td>319</td>\n",
       "    </tr>\n",
       "    <tr>\n",
       "      <th>3</th>\n",
       "      <td>Portola Valley</td>\n",
       "      <td>Town</td>\n",
       "      <td>2014-01-01T00:00:00.000</td>\n",
       "      <td>48.1</td>\n",
       "      <td>0.0</td>\n",
       "      <td>0.0</td>\n",
       "      <td>1.8</td>\n",
       "      <td>{'type': 'Point', 'coordinates': [-122.218611,...</td>\n",
       "      <td>14.0</td>\n",
       "      <td>28597</td>\n",
       "    </tr>\n",
       "    <tr>\n",
       "      <th>4</th>\n",
       "      <td>Redwood City</td>\n",
       "      <td>City</td>\n",
       "      <td>2014-01-01T00:00:00.000</td>\n",
       "      <td>16.4</td>\n",
       "      <td>10.6</td>\n",
       "      <td>6.6</td>\n",
       "      <td>3.0</td>\n",
       "      <td>{'type': 'Point', 'coordinates': [-122.236111,...</td>\n",
       "      <td>21.0</td>\n",
       "      <td>28607</td>\n",
       "    </tr>\n",
       "  </tbody>\n",
       "</table>\n",
       "</div>"
      ],
      "text/plain": [
       "        geography geography_type                     year  \\\n",
       "0        Atherton           Town  2014-01-01T00:00:00.000   \n",
       "1           Colma           Town  2014-01-01T00:00:00.000   \n",
       "2     Foster City           City  2014-01-01T00:00:00.000   \n",
       "3  Portola Valley           Town  2014-01-01T00:00:00.000   \n",
       "4    Redwood City           City  2014-01-01T00:00:00.000   \n",
       "\n",
       "   less_than_high_school_graduate  high_school_graduate  \\\n",
       "0                            13.6                  12.3   \n",
       "1                             6.3                   6.4   \n",
       "2                            11.9                   9.7   \n",
       "3                            48.1                   0.0   \n",
       "4                            16.4                  10.6   \n",
       "\n",
       "   some_college_or_associate_s_degree  bachelor_s_degree_or_higher  \\\n",
       "0                                 2.7                          3.5   \n",
       "1                                10.4                          2.4   \n",
       "2                                 2.0                          2.9   \n",
       "3                                 0.0                          1.8   \n",
       "4                                 6.6                          3.0   \n",
       "\n",
       "                                          location_1  \\\n",
       "0  {'type': 'Point', 'coordinates': [-122.2, 37.4...   \n",
       "1  {'type': 'Point', 'coordinates': [-122.455556,...   \n",
       "2  {'type': 'Point', 'coordinates': [-122.266389,...   \n",
       "3  {'type': 'Point', 'coordinates': [-122.218611,...   \n",
       "4  {'type': 'Point', 'coordinates': [-122.236111,...   \n",
       "\n",
       "   :@computed_region_uph5_8hpn  :@computed_region_i2t2_cryp  \n",
       "0                          2.0                        28596  \n",
       "1                          4.0                        28588  \n",
       "2                          6.0                          319  \n",
       "3                         14.0                        28597  \n",
       "4                         21.0                        28607  "
      ]
     },
     "execution_count": 5,
     "metadata": {},
     "output_type": "execute_result"
    }
   ],
   "source": [
    "df.head(5)"
   ]
  },
  {
   "cell_type": "markdown",
   "metadata": {},
   "source": [
    "<font color=darkred> shape fonskiyonu satır ve sütun sayısını döndürür. </font>"
   ]
  },
  {
   "cell_type": "code",
   "execution_count": 6,
   "metadata": {},
   "outputs": [
    {
     "data": {
      "text/plain": [
       "(32, 10)"
      ]
     },
     "execution_count": 6,
     "metadata": {},
     "output_type": "execute_result"
    }
   ],
   "source": [
    "df.shape"
   ]
  },
  {
   "cell_type": "markdown",
   "metadata": {},
   "source": [
    "<font color=darkred>Şimdide df nesnemizin sütunlarının isimlerini ve veri tiplerini öğrenelim. Normalde info() fonksiyonu ile bu bilgiye ulaşmıştık. ANcak ben kalabalık olması ve bu bilgide işe yarayabilir mantığı ile bu fonksiyonları da ekledim. </font>"
   ]
  },
  {
   "cell_type": "code",
   "execution_count": 7,
   "metadata": {},
   "outputs": [
    {
     "data": {
      "text/plain": [
       "geography                              object\n",
       "geography_type                         object\n",
       "year                                   object\n",
       "less_than_high_school_graduate        float64\n",
       "high_school_graduate                  float64\n",
       "some_college_or_associate_s_degree    float64\n",
       "bachelor_s_degree_or_higher           float64\n",
       "location_1                             object\n",
       ":@computed_region_uph5_8hpn           float64\n",
       ":@computed_region_i2t2_cryp             int64\n",
       "dtype: object"
      ]
     },
     "execution_count": 7,
     "metadata": {},
     "output_type": "execute_result"
    }
   ],
   "source": [
    "df.columns\n",
    "df.dtypes"
   ]
  },
  {
   "cell_type": "markdown",
   "metadata": {},
   "source": [
    "<font color=darkred> Describe fonksiyonu,veriden sayısal sütunlarla ilgili istatikleri döndürür, özet bilgi diyebiliriz. describe() sayısal verilere sahip olan sütunların max, min , std…gibi istatiksel değerlerini döndürür. </font>"
   ]
  },
  {
   "cell_type": "code",
   "execution_count": 8,
   "metadata": {},
   "outputs": [
    {
     "data": {
      "text/html": [
       "<div>\n",
       "<style scoped>\n",
       "    .dataframe tbody tr th:only-of-type {\n",
       "        vertical-align: middle;\n",
       "    }\n",
       "\n",
       "    .dataframe tbody tr th {\n",
       "        vertical-align: top;\n",
       "    }\n",
       "\n",
       "    .dataframe thead th {\n",
       "        text-align: right;\n",
       "    }\n",
       "</style>\n",
       "<table border=\"1\" class=\"dataframe\">\n",
       "  <thead>\n",
       "    <tr style=\"text-align: right;\">\n",
       "      <th></th>\n",
       "      <th>less_than_high_school_graduate</th>\n",
       "      <th>high_school_graduate</th>\n",
       "      <th>some_college_or_associate_s_degree</th>\n",
       "      <th>bachelor_s_degree_or_higher</th>\n",
       "      <th>:@computed_region_uph5_8hpn</th>\n",
       "      <th>:@computed_region_i2t2_cryp</th>\n",
       "    </tr>\n",
       "  </thead>\n",
       "  <tbody>\n",
       "    <tr>\n",
       "      <th>count</th>\n",
       "      <td>32.00000</td>\n",
       "      <td>32.000000</td>\n",
       "      <td>32.000000</td>\n",
       "      <td>32.000000</td>\n",
       "      <td>30.000000</td>\n",
       "      <td>32.000000</td>\n",
       "    </tr>\n",
       "    <tr>\n",
       "      <th>mean</th>\n",
       "      <td>17.80000</td>\n",
       "      <td>6.462500</td>\n",
       "      <td>5.946875</td>\n",
       "      <td>2.856250</td>\n",
       "      <td>17.733333</td>\n",
       "      <td>25062.093750</td>\n",
       "    </tr>\n",
       "    <tr>\n",
       "      <th>std</th>\n",
       "      <td>19.29944</td>\n",
       "      <td>4.693905</td>\n",
       "      <td>4.728430</td>\n",
       "      <td>1.873919</td>\n",
       "      <td>9.762466</td>\n",
       "      <td>9502.711577</td>\n",
       "    </tr>\n",
       "    <tr>\n",
       "      <th>min</th>\n",
       "      <td>0.00000</td>\n",
       "      <td>0.000000</td>\n",
       "      <td>0.000000</td>\n",
       "      <td>0.000000</td>\n",
       "      <td>1.000000</td>\n",
       "      <td>312.000000</td>\n",
       "    </tr>\n",
       "    <tr>\n",
       "      <th>25%</th>\n",
       "      <td>6.82500</td>\n",
       "      <td>1.925000</td>\n",
       "      <td>2.525000</td>\n",
       "      <td>2.100000</td>\n",
       "      <td>9.500000</td>\n",
       "      <td>28587.750000</td>\n",
       "    </tr>\n",
       "    <tr>\n",
       "      <th>50%</th>\n",
       "      <td>13.90000</td>\n",
       "      <td>7.750000</td>\n",
       "      <td>5.500000</td>\n",
       "      <td>3.000000</td>\n",
       "      <td>18.500000</td>\n",
       "      <td>28595.000000</td>\n",
       "    </tr>\n",
       "    <tr>\n",
       "      <th>75%</th>\n",
       "      <td>20.97500</td>\n",
       "      <td>9.450000</td>\n",
       "      <td>8.800000</td>\n",
       "      <td>3.600000</td>\n",
       "      <td>25.750000</td>\n",
       "      <td>28604.250000</td>\n",
       "    </tr>\n",
       "    <tr>\n",
       "      <th>max</th>\n",
       "      <td>100.00000</td>\n",
       "      <td>16.400000</td>\n",
       "      <td>18.500000</td>\n",
       "      <td>9.100000</td>\n",
       "      <td>34.000000</td>\n",
       "      <td>28613.000000</td>\n",
       "    </tr>\n",
       "  </tbody>\n",
       "</table>\n",
       "</div>"
      ],
      "text/plain": [
       "       less_than_high_school_graduate  high_school_graduate  \\\n",
       "count                        32.00000             32.000000   \n",
       "mean                         17.80000              6.462500   \n",
       "std                          19.29944              4.693905   \n",
       "min                           0.00000              0.000000   \n",
       "25%                           6.82500              1.925000   \n",
       "50%                          13.90000              7.750000   \n",
       "75%                          20.97500              9.450000   \n",
       "max                         100.00000             16.400000   \n",
       "\n",
       "       some_college_or_associate_s_degree  bachelor_s_degree_or_higher  \\\n",
       "count                           32.000000                    32.000000   \n",
       "mean                             5.946875                     2.856250   \n",
       "std                              4.728430                     1.873919   \n",
       "min                              0.000000                     0.000000   \n",
       "25%                              2.525000                     2.100000   \n",
       "50%                              5.500000                     3.000000   \n",
       "75%                              8.800000                     3.600000   \n",
       "max                             18.500000                     9.100000   \n",
       "\n",
       "       :@computed_region_uph5_8hpn  :@computed_region_i2t2_cryp  \n",
       "count                    30.000000                    32.000000  \n",
       "mean                     17.733333                 25062.093750  \n",
       "std                       9.762466                  9502.711577  \n",
       "min                       1.000000                   312.000000  \n",
       "25%                       9.500000                 28587.750000  \n",
       "50%                      18.500000                 28595.000000  \n",
       "75%                      25.750000                 28604.250000  \n",
       "max                      34.000000                 28613.000000  "
      ]
     },
     "execution_count": 8,
     "metadata": {},
     "output_type": "execute_result"
    }
   ],
   "source": [
    "df.describe()"
   ]
  },
  {
   "cell_type": "markdown",
   "metadata": {},
   "source": [
    "<font color=darkred> loc fonksiyonu istediğiniz satırları (veya sütunları) getirmek için kullanılır. </font>"
   ]
  },
  {
   "cell_type": "code",
   "execution_count": 9,
   "metadata": {},
   "outputs": [
    {
     "data": {
      "text/html": [
       "<div>\n",
       "<style scoped>\n",
       "    .dataframe tbody tr th:only-of-type {\n",
       "        vertical-align: middle;\n",
       "    }\n",
       "\n",
       "    .dataframe tbody tr th {\n",
       "        vertical-align: top;\n",
       "    }\n",
       "\n",
       "    .dataframe thead th {\n",
       "        text-align: right;\n",
       "    }\n",
       "</style>\n",
       "<table border=\"1\" class=\"dataframe\">\n",
       "  <thead>\n",
       "    <tr style=\"text-align: right;\">\n",
       "      <th></th>\n",
       "      <th>geography_type</th>\n",
       "      <th>year</th>\n",
       "      <th>bachelor_s_degree_or_higher</th>\n",
       "    </tr>\n",
       "  </thead>\n",
       "  <tbody>\n",
       "    <tr>\n",
       "      <th>1</th>\n",
       "      <td>Town</td>\n",
       "      <td>2014-01-01T00:00:00.000</td>\n",
       "      <td>2.4</td>\n",
       "    </tr>\n",
       "    <tr>\n",
       "      <th>2</th>\n",
       "      <td>City</td>\n",
       "      <td>2014-01-01T00:00:00.000</td>\n",
       "      <td>2.9</td>\n",
       "    </tr>\n",
       "    <tr>\n",
       "      <th>3</th>\n",
       "      <td>Town</td>\n",
       "      <td>2014-01-01T00:00:00.000</td>\n",
       "      <td>1.8</td>\n",
       "    </tr>\n",
       "  </tbody>\n",
       "</table>\n",
       "</div>"
      ],
      "text/plain": [
       "  geography_type                     year  bachelor_s_degree_or_higher\n",
       "1           Town  2014-01-01T00:00:00.000                          2.4\n",
       "2           City  2014-01-01T00:00:00.000                          2.9\n",
       "3           Town  2014-01-01T00:00:00.000                          1.8"
      ]
     },
     "execution_count": 9,
     "metadata": {},
     "output_type": "execute_result"
    }
   ],
   "source": [
    "df.loc[[1,2,3],[\"geography_type\",\"year\",\"bachelor_s_degree_or_higher\"]]"
   ]
  },
  {
   "cell_type": "markdown",
   "metadata": {},
   "source": [
    "<font color=darkred> Bir sütunu groupby() fonksiyonu ile gruplayarak özet tablo oluşturabilir. Örneğin coğrafya türüne göre gruplayıp ortalama bulalım. </font>"
   ]
  },
  {
   "cell_type": "code",
   "execution_count": 10,
   "metadata": {},
   "outputs": [
    {
     "data": {
      "text/html": [
       "<div>\n",
       "<style scoped>\n",
       "    .dataframe tbody tr th:only-of-type {\n",
       "        vertical-align: middle;\n",
       "    }\n",
       "\n",
       "    .dataframe tbody tr th {\n",
       "        vertical-align: top;\n",
       "    }\n",
       "\n",
       "    .dataframe thead th {\n",
       "        text-align: right;\n",
       "    }\n",
       "</style>\n",
       "<table border=\"1\" class=\"dataframe\">\n",
       "  <thead>\n",
       "    <tr style=\"text-align: right;\">\n",
       "      <th></th>\n",
       "      <th>less_than_high_school_graduate</th>\n",
       "      <th>high_school_graduate</th>\n",
       "      <th>some_college_or_associate_s_degree</th>\n",
       "      <th>bachelor_s_degree_or_higher</th>\n",
       "      <th>:@computed_region_uph5_8hpn</th>\n",
       "      <th>:@computed_region_i2t2_cryp</th>\n",
       "    </tr>\n",
       "    <tr>\n",
       "      <th>geography_type</th>\n",
       "      <th></th>\n",
       "      <th></th>\n",
       "      <th></th>\n",
       "      <th></th>\n",
       "      <th></th>\n",
       "      <th></th>\n",
       "    </tr>\n",
       "  </thead>\n",
       "  <tbody>\n",
       "    <tr>\n",
       "      <th>CDP</th>\n",
       "      <td>22.441667</td>\n",
       "      <td>4.125000</td>\n",
       "      <td>5.983333</td>\n",
       "      <td>1.833333</td>\n",
       "      <td>27.583333</td>\n",
       "      <td>26240.833333</td>\n",
       "    </tr>\n",
       "    <tr>\n",
       "      <th>City</th>\n",
       "      <td>13.413333</td>\n",
       "      <td>8.206667</td>\n",
       "      <td>6.473333</td>\n",
       "      <td>3.806667</td>\n",
       "      <td>11.769231</td>\n",
       "      <td>22941.466667</td>\n",
       "    </tr>\n",
       "    <tr>\n",
       "      <th>Town</th>\n",
       "      <td>19.820000</td>\n",
       "      <td>6.840000</td>\n",
       "      <td>4.280000</td>\n",
       "      <td>2.460000</td>\n",
       "      <td>9.600000</td>\n",
       "      <td>28595.000000</td>\n",
       "    </tr>\n",
       "  </tbody>\n",
       "</table>\n",
       "</div>"
      ],
      "text/plain": [
       "                less_than_high_school_graduate  high_school_graduate  \\\n",
       "geography_type                                                         \n",
       "CDP                                  22.441667              4.125000   \n",
       "City                                 13.413333              8.206667   \n",
       "Town                                 19.820000              6.840000   \n",
       "\n",
       "                some_college_or_associate_s_degree  \\\n",
       "geography_type                                       \n",
       "CDP                                       5.983333   \n",
       "City                                      6.473333   \n",
       "Town                                      4.280000   \n",
       "\n",
       "                bachelor_s_degree_or_higher  :@computed_region_uph5_8hpn  \\\n",
       "geography_type                                                             \n",
       "CDP                                1.833333                    27.583333   \n",
       "City                               3.806667                    11.769231   \n",
       "Town                               2.460000                     9.600000   \n",
       "\n",
       "                :@computed_region_i2t2_cryp  \n",
       "geography_type                               \n",
       "CDP                            26240.833333  \n",
       "City                           22941.466667  \n",
       "Town                           28595.000000  "
      ]
     },
     "execution_count": 10,
     "metadata": {},
     "output_type": "execute_result"
    }
   ],
   "source": [
    "df.groupby(\"geography_type\").mean()"
   ]
  },
  {
   "cell_type": "markdown",
   "metadata": {},
   "source": [
    " <font color=darkred> Lise mezunu oranının 10'dan büyük, Lisans derecesi veya daha yüksek oranının 8.7'den küçük olan verilerin getirilmesi. </font>"
   ]
  },
  {
   "cell_type": "code",
   "execution_count": 11,
   "metadata": {},
   "outputs": [
    {
     "name": "stdout",
     "output_type": "stream",
     "text": [
      "                 geography geography_type                     year  \\\n",
      "0                 Atherton           Town  2014-01-01T00:00:00.000   \n",
      "4             Redwood City           City  2014-01-01T00:00:00.000   \n",
      "11         North Fair Oaks            CDP  2014-01-01T00:00:00.000   \n",
      "15              Menlo Park           City  2014-01-01T00:00:00.000   \n",
      "18  Highlands-Baywood Park            CDP  2014-01-01T00:00:00.000   \n",
      "\n",
      "    less_than_high_school_graduate  high_school_graduate  \\\n",
      "0                             13.6                  12.3   \n",
      "4                             16.4                  10.6   \n",
      "11                            26.7                  13.4   \n",
      "15                            22.1                  12.0   \n",
      "18                            15.7                  13.6   \n",
      "\n",
      "    some_college_or_associate_s_degree  bachelor_s_degree_or_higher  \\\n",
      "0                                  2.7                          3.5   \n",
      "4                                  6.6                          3.0   \n",
      "11                                18.5                          4.6   \n",
      "15                                 8.7                          2.9   \n",
      "18                                10.2                          3.3   \n",
      "\n",
      "                                           location_1  \\\n",
      "0   {'type': 'Point', 'coordinates': [-122.2, 37.4...   \n",
      "4   {'type': 'Point', 'coordinates': [-122.236111,...   \n",
      "11  {'type': 'Point', 'coordinates': [-122.203611,...   \n",
      "15  {'type': 'Point', 'coordinates': [-122.183333,...   \n",
      "18  {'type': 'Point', 'coordinates': [-122.343333,...   \n",
      "\n",
      "    :@computed_region_uph5_8hpn  :@computed_region_i2t2_cryp  \n",
      "0                           2.0                        28596  \n",
      "4                          21.0                        28607  \n",
      "11                         31.0                        28608  \n",
      "15                         12.0                        28595  \n",
      "18                         25.0                          317  \n"
     ]
    }
   ],
   "source": [
    "print(df[ (df[\"high_school_graduate\"]>10.00) & (df[\"bachelor_s_degree_or_higher\"]<8.7)])"
   ]
  },
  {
   "cell_type": "markdown",
   "metadata": {},
   "source": [
    "<font color=darkred> Şimdi elimizdeki veri için basit bir fonksiyon yazalım. Bu fonksiyon ile verimizdeki kişilerin yaşağıdı coğrafya türüne göre sayısal değer döndüren bir fonksiyon yazalım. </font>"
   ]
  },
  {
   "cell_type": "code",
   "execution_count": 12,
   "metadata": {},
   "outputs": [],
   "source": [
    "def Neresi(yer):\n",
    "    if yer == \"City\":\n",
    "        return 1\n",
    "    elif yer ==\"CDP\":\n",
    "        return 2\n",
    "    else:\n",
    "        return 0"
   ]
  },
  {
   "cell_type": "markdown",
   "metadata": {},
   "source": [
    "<font color=darkred> Fonkisyonu verimizde kullanmak için Pandasın apply() fonksiyonunu kullanalım. Ayrıca bu fonksiyondan döndürdüğümüz verileri bir sütuna ekleyeceğiz. </font>"
   ]
  },
  {
   "cell_type": "code",
   "execution_count": 13,
   "metadata": {},
   "outputs": [],
   "source": [
    "df['nerede_yasiyor'] = df.geography_type.apply(Neresi)"
   ]
  },
  {
   "cell_type": "markdown",
   "metadata": {},
   "source": [
    "<font color=darkred> Verimizdeki kişilerin 15inin ilde , 5inin ilçede yaşadğı görülmektedir. </font>"
   ]
  },
  {
   "cell_type": "code",
   "execution_count": 14,
   "metadata": {},
   "outputs": [
    {
     "data": {
      "text/plain": [
       "1    15\n",
       "2    12\n",
       "0     5\n",
       "Name: nerede_yasiyor, dtype: int64"
      ]
     },
     "execution_count": 14,
     "metadata": {},
     "output_type": "execute_result"
    }
   ],
   "source": [
    "df.nerede_yasiyor.value_counts()"
   ]
  },
  {
   "cell_type": "markdown",
   "metadata": {},
   "source": [
    " <font color=darkred> Pandas kütüphanesi \"matplotlib\" tabanlı çizdirme fonksiyonlarına sahiptir. </font>"
   ]
  },
  {
   "cell_type": "code",
   "execution_count": 15,
   "metadata": {},
   "outputs": [],
   "source": [
    "import matplotlib.pyplot as plt"
   ]
  },
  {
   "cell_type": "code",
   "execution_count": 16,
   "metadata": {},
   "outputs": [
    {
     "data": {
      "text/plain": [
       "<matplotlib.axes._subplots.AxesSubplot at 0x16c3fe5ab80>"
      ]
     },
     "execution_count": 16,
     "metadata": {},
     "output_type": "execute_result"
    },
    {
     "data": {
      "image/png": "[encoded data removed]",
      "text/plain": [
       "<Figure size 432x288 with 1 Axes>"
      ]
     },
     "metadata": {
      "needs_background": "light"
     },
     "output_type": "display_data"
    }
   ],
   "source": [
    "df.less_than_high_school_graduate.plot(style=\"r.-\",title=\"Lise Mezunundan Daha Az\")"
   ]
  }
 ],
 "metadata": {
  "kernelspec": {
   "display_name": "Python 3",
   "language": "python",
   "name": "python3"
  },
  "language_info": {
   "codemirror_mode": {
    "name": "ipython",
    "version": 3
   },
   "file_extension": ".py",
   "mimetype": "text/x-python",
   "name": "python",
   "nbconvert_exporter": "python",
   "pygments_lexer": "ipython3",
   "version": "3.7.4"
  }
 },
 "nbformat": 4,
 "nbformat_minor": 4
}
