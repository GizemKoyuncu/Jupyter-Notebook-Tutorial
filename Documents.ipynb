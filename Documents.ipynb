{
 "cells": [
  {
   "cell_type": "markdown",
   "metadata": {},
   "source": [
    "# Jupyter Document\n"
   ]
  },
  {
   "cell_type": "markdown",
   "metadata": {},
   "source": [
    "### 1. nbconvert"
   ]
  },
  {
   "attachments": {},
   "cell_type": "markdown",
   "metadata": {},
   "source": [
    "nbconvert aracı .ipynb uzantılı Jupyter Notebook dosyasını HTML,Latex,PDF,Markdown,reStructuredText ve daha fazlasını içeren başka bir statik biçime dönüştürmesine izin verir. \n",
    "\n",
    "Python kitaplığı (import nbconvert) olarak kullanılırsa, nbconvert proje içinde not defteri dönüşümü ekler.Örneğin, nbconvert, Jupyter Notebook web uygulamasında “Farklı indir” özelliğini uygulamak için kullanılır.Komut satırı aracı olarak kullanıldığında (jupyter nbconvert ... olarak çağrılır), kullanıcılar dizüstü bilgisayar dosyalarından yalnızca birini veya bir kısmını başka bir biçime kolayca dönüştürebilir.\n",
    "\n",
    "![Screenshot_9](https://user-images.githubusercontent.com/61363621/77236894-dab83c00-6bd3-11ea-9b76-5104f112fba2.png)\n",
    "![Screenshot_10](https://user-images.githubusercontent.com/61363621/77236922-19e68d00-6bd4-11ea-891f-548835253604.png)\n"
   ]
  },
  {
   "cell_type": "markdown",
   "metadata": {},
   "source": [
    "## nbconvert Gereklilikleri\n",
    "\n",
    "nbconvert’in tüm özelliklerini kullanabilmek için nbconvert ,Pandoc ve TeX (özellikle XeLaTeX) kurulumu gerekir. \n",
    "\n",
    "### 1.  nbconvert Kurulumu\n",
    "\n",
    "Nbconvert hem pip hem de conda için paketlenmiştir, böylece aşağıdaki komutları kullanarak kurabilirsiniz:\n",
    "\n",
    "****pip install nbconvert****      \n",
    "****conda install nbconvert****\n",
    "\n",
    "**Not:** Eğer Anaconda kullanıyorsanız nbconvert kurulumunu yapmanıza gerek yok. Zaten bu bileşen Anaconda içerisinde kurulu gelecektir.\n",
    "\n",
    "### 2. Pandoc Kurulumu \n",
    "\n",
    "HTML dışındaki biçimlere dönüştürmek için nbconvert Pandoc (1.12.1 veya üstü) kullanır.\n",
    "\n",
    "Linux'a pandoc yüklemek için aşağıdaki komutu kullanabilirsiniz:\n",
    "**sudo apt-get install pandoc**\n",
    "\n",
    "Diğer işletim sistemlerine kurulumunu görmek için [buraya](https://pandoc.org/installing.html]) tıklayabilirsiniz.\n",
    "\n",
    "### 3. TeX Kurulumu\n",
    "\n",
    "PDF'ye dönüştürmek için nbconvert, TeX belge hazırlama kullanır.PDF çıktısı üretmek için XeTeX motoru tarafından LaTeX2e formatında (xelatex komutu ile) derlenen bir ara .tex dosyası üretir.Komple bir TeX ortamını (XeLaTeX ve gerekli destek paketleri dahil) elle kurmak zor olabilir.Neyse ki, bunu çok daha kolay hale getiren paketler var. Bu paketler farklı işletim sistemlerine özgüdür:\n",
    "\n",
    "Linux: [TeX Live](http://tug.org/texlive/)\n",
    "\n",
    "    E.g. on Debian or Ubuntu: sudo apt-get install texlive-xetex texlive-fonts-recommended texlive-generic-recommended\n",
    "\n",
    "macOS (OS X): [MacTeX](http://tug.org/mactex/)\n",
    "\n",
    "Windows: [MikTex](https://miktex.org/)"
   ]
  }
 ],
 "metadata": {
  "kernelspec": {
   "display_name": "Python 3",
   "language": "python",
   "name": "python3"
  },
  "language_info": {
   "codemirror_mode": {
    "name": "ipython",
    "version": 3
   },
   "file_extension": ".py",
   "mimetype": "text/x-python",
   "name": "python",
   "nbconvert_exporter": "python",
   "pygments_lexer": "ipython3",
   "version": "3.7.4"
  }
 },
 "nbformat": 4,
 "nbformat_minor": 2
}
