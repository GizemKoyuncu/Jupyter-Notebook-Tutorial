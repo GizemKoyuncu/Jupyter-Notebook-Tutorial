{
 "cells": [
  {
   "cell_type": "markdown",
   "metadata": {},
   "source": [
    "## Jupyter Widgets"
   ]
  },
  {
   "cell_type": "markdown",
   "metadata": {},
   "source": [
    "Widget, kullanıcı için etkileşimli bir grafik kullanıcı arayüzü oluşturmak için kullanılır.Widget, Jupyter Notebook söz konusu olduğunda tarayıcıda bulunan ve slider veya metin kutusu gibi bir kullanıcı arabirimi öğesi olan önemli bir python nesnesidir. Jupyter, aşağıda yer alan widget dizisini destekler:"
   ]
  },
  {
   "cell_type": "markdown",
   "metadata": {},
   "source": [
    "- Numeric\n",
    "- Boolean\n",
    "- Selection\n",
    "- String\n",
    "- Image\n",
    "- Button\n",
    "- Output\n",
    "- Animation\n",
    "- Date picker\n",
    "- Color picker\n",
    "- Controller (i.e. game controller)\n",
    "- Layout"
   ]
  },
  {
   "cell_type": "markdown",
   "metadata": {},
   "source": [
    "Widget listesinin tamamnını görmek için [buraya](https://ipywidgets.readthedocs.io/en/stable/examples/Widget%20List.html)\n",
    "tıklayabilirsiniz ya da notebookta aşağıda yer alan kodu çalıştırabilirsiniz."
   ]
  },
  {
   "cell_type": "code",
   "execution_count": 1,
   "metadata": {},
   "outputs": [
    {
     "name": "stdout",
     "output_type": "stream",
     "text": [
      "['Accordion', 'AppLayout', 'Audio', 'BoundedFloatText', 'BoundedIntText', 'Box', 'Button', 'ButtonStyle', 'CallbackDispatcher', 'Checkbox', 'Color', 'ColorPicker', 'Combobox', 'Controller', 'CoreWidget', 'DOMWidget', 'DatePicker', 'Datetime', 'Dropdown', 'FileUpload', 'FloatLogSlider', 'FloatProgress', 'FloatRangeSlider', 'FloatSlider', 'FloatText', 'GridBox', 'GridspecLayout', 'HBox', 'HTML', 'HTMLMath', 'Image', 'IntProgress', 'IntRangeSlider', 'IntSlider', 'IntText', 'Label', 'Layout', 'NumberFormat', 'Output', 'Password', 'Play', 'RadioButtons', 'Select', 'SelectMultiple', 'SelectionRangeSlider', 'SelectionSlider', 'SliderStyle', 'Style', 'Tab', 'Text', 'Textarea', 'ToggleButton', 'ToggleButtons', 'ToggleButtonsStyle', 'TwoByTwoLayout', 'VBox', 'Valid', 'ValueWidget', 'Video', 'Widget', '__builtins__', '__cached__', '__doc__', '__file__', '__jupyter_widgets_base_version__', '__jupyter_widgets_controls_version__', '__loader__', '__name__', '__package__', '__path__', '__protocol_version__', '__spec__', '__version__', '_handle_ipython', '_version', 'dlink', 'docutils', 'domwidget', 'fixed', 'get_ipython', 'handle_kernel', 'interact', 'interact_manual', 'interaction', 'interactive', 'interactive_output', 'jsdlink', 'jslink', 'link', 'load_ipython_extension', 'os', 'register', 'register_comm_target', 'trait_types', 'util', 'valuewidget', 'version_info', 'widget', 'widget_bool', 'widget_box', 'widget_button', 'widget_color', 'widget_controller', 'widget_core', 'widget_date', 'widget_description', 'widget_float', 'widget_int', 'widget_layout', 'widget_link', 'widget_media', 'widget_output', 'widget_selection', 'widget_selectioncontainer', 'widget_serialization', 'widget_string', 'widget_style', 'widget_templates', 'widget_upload', 'widgets']\n"
     ]
    }
   ],
   "source": [
    "import ipywidgets as widgets\n",
    "print(dir(widgets))"
   ]
  },
  {
   "cell_type": "markdown",
   "metadata": {},
   "source": [
    "**NOT:** Anaconda kullandığım için widget kütüphanesini yüklememe gerek kalmadı. Eğer Anaconda kullanmıyorsanız [buraya](https://ipywidgets.readthedocs.io/en/stable/user_install.html) tıklayarak widget kütüphanesini nasıl yükleyebileceğinizi görebilirsiniz."
   ]
  },
  {
   "cell_type": "markdown",
   "metadata": {},
   "source": [
    "### Widget Oluşturma"
   ]
  },
  {
   "cell_type": "markdown",
   "metadata": {},
   "source": [
    "Widget kolayca oluşturulabilir. Küçük bir başlangıç yaparak sayfamıza bir kaydırıcı(slider) ekleyelim."
   ]
  },
  {
   "cell_type": "markdown",
   "metadata": {},
   "source": [
    "widgets.IntSlider()"
   ]
  },
  {
   "cell_type": "markdown",
   "metadata": {},
   "source": [
    "![Screenshot_1](https://user-images.githubusercontent.com/61363621/76709016-7c3f1980-670c-11ea-9167-1b3e5cd4077b.png)\n",
    "\n"
   ]
  },
  {
   "cell_type": "markdown",
   "metadata": {},
   "source": [
    "Gördüğünüz gibi, kaydırıcı için varsayılan değer sıfırdır.Widget'ı bir değişkene kaydetmek istiyorsanız, Jupyter'a widget'ı görüntüleme işlevini kullanarak göstermesini söylemeniz gerekir.Burada bir widget görüntülemek için ihtiyacımız olan ekstra görüntüleme işlevini ekliyoruz."
   ]
  },
  {
   "cell_type": "code",
   "execution_count": 3,
   "metadata": {},
   "outputs": [],
   "source": [
    "from IPython.display import display"
   ]
  },
  {
   "cell_type": "markdown",
   "metadata": {},
   "source": [
    "Oluşturduğumuz widgetı bir değişkene aktaralım ve display fonksiyonuna widget nesnemizi gönderelim. Ancak bu kez görüntüleme işlevini iki kez kullanalım."
   ]
  },
  {
   "cell_type": "markdown",
   "metadata": {},
   "source": [
    "sldr = widgets.IntSlider()\n",
    "display(sldr)\n",
    "display(sldr)"
   ]
  },
  {
   "cell_type": "markdown",
   "metadata": {},
   "source": [
    "![Screenshot_2](https://user-images.githubusercontent.com/61363621/76709036-9678f780-670c-11ea-908b-cb987081c92e.png)\n"
   ]
  },
  {
   "cell_type": "markdown",
   "metadata": {},
   "source": [
    "Kaydıracın birini hareket ettirdiğinizde, diğer kaydırıcının da hareket ettiğini hızlı bir şekilde keşfedeceksiniz.Bunun olmasının nedeni, yalnızca bir kaydırıcı nesnesi oluşturmamızdır.Gerçek görünen widget'ların ikisi de altındaki aynı nesneyi işaret eder, bu nedenle birini taşıdığınızda diğerini etkili bir şekilde hareket ettirirsiniz.Bu iki kaydırıcının aynı nesneye ait iki görünüm olduğunu düşünebilirsiniz."
   ]
  },
  {
   "cell_type": "markdown",
   "metadata": {},
   "source": [
    "#### Farklı Widget Örnekleri"
   ]
  },
  {
   "cell_type": "markdown",
   "metadata": {},
   "source": [
    "> FloatProgress"
   ]
  },
  {
   "cell_type": "raw",
   "metadata": {},
   "source": [
    "widgets.FloatProgress(\n",
    "    value=7.5,\n",
    "    min=0,\n",
    "    max=10.0,\n",
    "    step=0.1,\n",
    "    description='Loading:',\n",
    "    bar_style='info',\n",
    "    orientation='horizontal'\n",
    ")"
   ]
  },
  {
   "cell_type": "markdown",
   "metadata": {},
   "source": [
    "![Screenshot_3](https://user-images.githubusercontent.com/61363621/76709052-a690d700-670c-11ea-8c39-f2aafc3327f0.png)\n"
   ]
  },
  {
   "cell_type": "markdown",
   "metadata": {},
   "source": [
    "> ToggleButton"
   ]
  },
  {
   "cell_type": "raw",
   "metadata": {},
   "source": [
    "widgets.ToggleButton(\n",
    "    value=False,\n",
    "    description='Click me',\n",
    "    disabled=False,\n",
    "    button_style='', # 'success', 'info', 'warning', 'danger' or ''\n",
    "    tooltip='Description',\n",
    "    icon='check'\n",
    ")"
   ]
  },
  {
   "cell_type": "markdown",
   "metadata": {},
   "source": [
    "![Screenshot_4](https://user-images.githubusercontent.com/61363621/76709066-b9a3a700-670c-11ea-9fa5-c2140ec8684b.png)\n"
   ]
  },
  {
   "cell_type": "markdown",
   "metadata": {},
   "source": [
    "> Valid"
   ]
  },
  {
   "cell_type": "markdown",
   "metadata": {},
   "source": [
    "widgets.Valid(\n",
    "    value=False,\n",
    "    description='Valid!',\n",
    ")"
   ]
  },
  {
   "cell_type": "markdown",
   "metadata": {},
   "source": [
    "![Screenshot_5](https://user-images.githubusercontent.com/61363621/76709072-c6c09600-670c-11ea-8bbf-49537b23c66b.png)\n"
   ]
  },
  {
   "cell_type": "markdown",
   "metadata": {},
   "source": [
    "> Dropdown"
   ]
  },
  {
   "cell_type": "markdown",
   "metadata": {},
   "source": [
    "widgets.Dropdown(\n",
    "    options=['1', '2', '3'],\n",
    "    value='2',\n",
    "    description='Number:',\n",
    "    disabled=False,\n",
    ")"
   ]
  },
  {
   "cell_type": "markdown",
   "metadata": {},
   "source": [
    "![Screenshot_6](https://user-images.githubusercontent.com/61363621/76709077-d50eb200-670c-11ea-8981-df55c926c2c3.png)"
   ]
  },
  {
   "cell_type": "markdown",
   "metadata": {},
   "source": [
    "> HTML"
   ]
  },
  {
   "cell_type": "raw",
   "metadata": {},
   "source": [
    "widgets.HTML(\n",
    "    value=\"Hello <b>World</b>\",\n",
    "    placeholder='Some HTML',\n",
    "    description='Some HTML',\n",
    ")"
   ]
  },
  {
   "cell_type": "markdown",
   "metadata": {},
   "source": [
    "![Screenshot_7](https://user-images.githubusercontent.com/61363621/76709086-e5269180-670c-11ea-850e-a311f287767f.png)"
   ]
  },
  {
   "cell_type": "markdown",
   "metadata": {},
   "source": [
    "> Play (Animation) widget"
   ]
  },
  {
   "cell_type": "raw",
   "metadata": {},
   "source": [
    "play = widgets.Play(\n",
    "#     interval=10,\n",
    "    value=50,\n",
    "    min=0,\n",
    "    max=100,\n",
    "    step=1,\n",
    "    description=\"Press play\",\n",
    "    disabled=False\n",
    ")\n",
    "slider = widgets.IntSlider()\n",
    "widgets.jslink((play, 'value'), (slider, 'value'))\n",
    "widgets.HBox([play, slider])"
   ]
  },
  {
   "cell_type": "markdown",
   "metadata": {},
   "source": [
    "![Screenshot_8](https://user-images.githubusercontent.com/61363621/76709102-f4a5da80-670c-11ea-8833-ae3d54f6a974.png)\n"
   ]
  },
  {
   "cell_type": "markdown",
   "metadata": {},
   "source": [
    ">Tabs"
   ]
  },
  {
   "cell_type": "raw",
   "metadata": {},
   "source": [
    "tab_contents = ['P0', 'P1', 'P2', 'P3', 'P4']\n",
    "children = [widgets.Text(description=name) for name in tab_contents]\n",
    "tab = widgets.Tab()\n",
    "tab.children = children\n",
    "for i in range(len(children)):\n",
    "    tab.set_title(i, str(i))\n",
    "tab"
   ]
  },
  {
   "cell_type": "markdown",
   "metadata": {},
   "source": [
    "![Screenshot_9](https://user-images.githubusercontent.com/61363621/76709108-04bdba00-670d-11ea-8622-00efb79a2055.png)"
   ]
  },
  {
   "cell_type": "markdown",
   "metadata": {},
   "source": [
    "### Widget Kapatma"
   ]
  },
  {
   "cell_type": "markdown",
   "metadata": {},
   "source": [
    "Bir widget'ı close () yöntemini çağırarak kapatabilirsiniz. Widget'ı kaldırmak istiyorsanız, hücreyi temizlemeniz yeterlidir."
   ]
  },
  {
   "cell_type": "markdown",
   "metadata": {},
   "source": [
    "### Widget'ın Özellikleri"
   ]
  },
  {
   "cell_type": "markdown",
   "metadata": {},
   "source": [
    "Jupyter widget'ları özellikleri için bir dizi kurala uyar.Kullandığınız widget özelliklerinin ve yöntemlerinin tam bir listesini almak dir(obj) komutunu kullanabilirsiniz. "
   ]
  },
  {
   "cell_type": "markdown",
   "metadata": {},
   "source": [
    "Örnek olarak yeni bir kaydırıcı oluşturalım ve özellik ve yöntemlerini görüntüleyelim."
   ]
  },
  {
   "cell_type": "markdown",
   "metadata": {},
   "source": [
    "sldrNew = widgets.IntSlider()\n",
    "display(sldrNew)"
   ]
  },
  {
   "cell_type": "markdown",
   "metadata": {},
   "source": [
    "![Screenshot_10](https://user-images.githubusercontent.com/61363621/76709118-14d59980-670d-11ea-8a45-6fc4f2ad95fe.png)"
   ]
  },
  {
   "cell_type": "markdown",
   "metadata": {},
   "source": [
    "dir(sldrNew)"
   ]
  },
  {
   "cell_type": "markdown",
   "metadata": {},
   "source": [
    "![Screenshot_11](https://user-images.githubusercontent.com/61363621/76709126-228b1f00-670d-11ea-806f-7298213296da.png)"
   ]
  },
  {
   "cell_type": "markdown",
   "metadata": {},
   "source": [
    "Kaydırıcıyı bir değere ayarlayıp value özelliğini kullandığınızda kaydırıcnın üzerindeki değeri yazdırır."
   ]
  },
  {
   "cell_type": "raw",
   "metadata": {},
   "source": [
    "display(sldrNew)"
   ]
  },
  {
   "cell_type": "markdown",
   "metadata": {},
   "source": [
    "![Screenshot_12](https://user-images.githubusercontent.com/61363621/76709130-2b7bf080-670d-11ea-99bb-a202efa175e8.png)\n"
   ]
  },
  {
   "cell_type": "markdown",
   "metadata": {},
   "source": [
    "sldrNew.value"
   ]
  },
  {
   "cell_type": "markdown",
   "metadata": {},
   "source": [
    "![Screenshot_13](https://user-images.githubusercontent.com/61363621/76709138-40f11a80-670d-11ea-926e-a730daccf40a.png)"
   ]
  },
  {
   "cell_type": "markdown",
   "metadata": {},
   "source": [
    "Kaydırıcıya yeni bir değere ayarlamak ve bir açıklama eklemek isterseniz, aşağıdakileri yapabilirsiniz:"
   ]
  },
  {
   "cell_type": "code",
   "execution_count": 16,
   "metadata": {},
   "outputs": [],
   "source": [
    "sldrNew.value = 80\n",
    "sldrNew.description = 'Hello slider'"
   ]
  },
  {
   "cell_type": "markdown",
   "metadata": {},
   "source": [
    "Eğer isterseniz  birkaç özelliğini ayarlayabiliriz:"
   ]
  },
  {
   "cell_type": "markdown",
   "metadata": {},
   "source": [
    "sldrAttr = widgets.IntSlider(value=40, description='My Slider',orientation='vertical')\n",
    "display(sldrAttr)"
   ]
  },
  {
   "cell_type": "markdown",
   "metadata": {},
   "source": [
    "![Screenshot_14](https://user-images.githubusercontent.com/61363621/76709144-52d2bd80-670d-11ea-9584-10b95f458ab1.png)"
   ]
  },
  {
   "cell_type": "markdown",
   "metadata": {},
   "source": [
    "### İki Widget'ı Bağlama"
   ]
  },
  {
   "cell_type": "markdown",
   "metadata": {},
   "source": [
    "Bazı Jupyter widget'ları birbirine bağlanabilir.Örneğin, bir FloatText widget'ını bir FloatSlider widget'ına bağlayabilirsiniz.Bunun anlamı, bir widget güncellendiğinde, diğeri de olacaktır.Bu, \"özniteliklerin senkronizasyonu\" olarak bilinir. Basit bir örneğe bakalım:"
   ]
  },
  {
   "cell_type": "raw",
   "metadata": {},
   "source": [
    "text = widgets.FloatText()\n",
    "slider = widgets.FloatSlider()\n",
    "display(text,slider)\n",
    "mylink = widgets.jslink((text, 'value'), (slider, 'value'))"
   ]
  },
  {
   "cell_type": "markdown",
   "metadata": {},
   "source": [
    "![Screenshot_15](https://user-images.githubusercontent.com/61363621/76709149-5fefac80-670d-11ea-87e6-95fc26946365.png)"
   ]
  },
  {
   "cell_type": "markdown",
   "metadata": {},
   "source": [
    "Burada iki widget yaratıyoruz ve her ikisini de gösteriyoruz.Sonra widgets.jslink'i çağırıp metnin ve kaydırıcının değerini birbirine bağlamasını sağlıyoruz.Jslink yöntemini kullandığınızda, widget'ları istemci tarafından bağlarsınız.Bu, yerel makinenin donanımını kullanacakları için widget'ların daha sağlam bir şekilde senkronize edilmesini sağlar."
   ]
  },
  {
   "cell_type": "markdown",
   "metadata": {},
   "source": [
    "İstemci tarafında iki pencere öğesi arasında tek yönlü bir bağlantı oluşturacak olan jsdlink'i de kullanabilirsiniz.Aşağıda yaptığımız gibi jsdlink kullanmak için yukarıdaki örneği değiştirmeyi deneyin:"
   ]
  },
  {
   "cell_type": "raw",
   "metadata": {},
   "source": [
    "text = widgets.FloatText()\n",
    "slider = widgets.FloatSlider()\n",
    "display(text,slider)\n",
    "mylink = widgets.jsdlink((text, 'value'), (slider, 'value'))\n"
   ]
  },
  {
   "cell_type": "markdown",
   "metadata": {},
   "source": [
    "![Screenshot_16](https://user-images.githubusercontent.com/61363621/76709154-6f6ef580-670d-11ea-9866-24df20c6cdac.png)"
   ]
  },
  {
   "cell_type": "markdown",
   "metadata": {},
   "source": [
    "Temel olarak metin widget'ını değiştirdiğinizde kaydırıcıyı eşleşecek şekilde değiştirir.Ancak kaydırıcının değerini değiştirirseniz, metin denetimi değişmez."
   ]
  },
  {
   "cell_type": "markdown",
   "metadata": {},
   "source": [
    "İki widget'ı birbirine bağlamak için kullanabileceğiniz iki yöntem daha vardır:\n",
    "\n",
    "- link\n",
    "- dlink\n",
    "\n",
    "Bu yöntemler, sırasıyla jslink ve jsdlink ile aynı şekilde çalışır, ancak sunucu ile konuşmaları dışında, bunları kullanırken bazı gecikmeler yaşayabilirsiniz.Açıkçası yerel makinenizde, muhtemelen ikisi arasında çok fazla fark görmeyeceksiniz.Son olarak, bağlantının unlink yöntemini çağırarak widget'ların bağlantısını kaldırabileceğinizi belirtmek istiyorum:"
   ]
  },
  {
   "cell_type": "code",
   "execution_count": 20,
   "metadata": {},
   "outputs": [],
   "source": [
    "mylink.unlink()"
   ]
  },
  {
   "cell_type": "markdown",
   "metadata": {},
   "source": [
    "Bağlantılı widget'ları oluşturduğunuz hücrenin sonuna bu kodu ekleyerek bunu deneyebilirsiniz.Ekler ve hücreyi yeniden çalıştırırsanız, iki widget'ın artık birbirine bağlı olmadığını görürsünüz."
   ]
  },
  {
   "cell_type": "markdown",
   "metadata": {},
   "source": [
    "### Events"
   ]
  },
  {
   "cell_type": "markdown",
   "metadata": {},
   "source": [
    "Bir widget ile etkileşim kurduğunuzda bir event oluşur.Örneğin, bir butona tıkladığınızda, bu bir tıklama eventi olarak bilinir.Bunun bir buton widget'ı kullanarak nasıl çalışabileceğine dair bir örneğe bakalım."
   ]
  },
  {
   "cell_type": "raw",
   "metadata": {},
   "source": [
    "btn = widgets.Button(description='Test')\n",
    "display(btn)\n",
    "def my_event_handler(btn_object):\n",
    "    print('You pressed the {} button!'.format(btn_object.description))\n",
    "    \n",
    "btn.on_click(my_event_handler)"
   ]
  },
  {
   "cell_type": "markdown",
   "metadata": {},
   "source": [
    "![Screenshot_17](https://user-images.githubusercontent.com/61363621/76709158-7c8be480-670d-11ea-9644-85407ed94533.png)\n"
   ]
  },
  {
   "cell_type": "markdown",
   "metadata": {},
   "source": [
    "Bu örneke bir buton ve my_event_handler adlı bir fonksiyon oluşturduk.Butonun click eventini bu işleyiciye gerçekten bağlamak için, on_click öğesini çağırmalı ve ona bağlı olmasını istediğiniz işlevi iletmelisiniz. on_click öğesine fonksiyonumuzu göndererdik ve butona tıkladığında fonksiyonun çalışmasını sağladık."
   ]
  },
  {
   "cell_type": "markdown",
   "metadata": {},
   "source": [
    "Aynı olay öğesine birden fazla buton bağlayabiliriz. Bu durumun örneği aşağıda yer almaktadır. Bu kodda, other_btn adlı farklı bir etikete sahip ikinci bir buton oluştururuz ve bunu diğer butonla aynı olay öğesine bağlarız."
   ]
  },
  {
   "cell_type": "raw",
   "metadata": {},
   "source": [
    "btn = widgets.Button(description='Test')\n",
    "other_btn = widgets.Button(description='Other')\n",
    "display(btn)\n",
    "display(other_btn)\n",
    "\n",
    "def my_event_handler(btn_object):\n",
    "    print('You pressed {}'.format(btn_object.description))\n",
    "    \n",
    "btn.on_click(my_event_handler)\n",
    "other_btn.on_click(my_event_handler)\n"
   ]
  },
  {
   "cell_type": "markdown",
   "metadata": {},
   "source": [
    "![Screenshot_18](https://user-images.githubusercontent.com/61363621/76709166-89103d00-670d-11ea-8d0a-ecdbc90dcab9.png)"
   ]
  },
  {
   "cell_type": "markdown",
   "metadata": {},
   "source": [
    "Bu tür olay bağlamayı diğer widget olayları türleriyle yapabilirsiniz. Hangi olayları desteklediğini anlamak için widget'a veya widget'ın kaynağına bakmanız gerekir. Kaynağına bakaken Jupyter Traitlet adı verilen bir kütüphaneden de faydalanır. Traitlet, Python sınıflarının tür denetleme, dinamik olarak hesaplanan varsayılan değerler ve değerler \"değiştiğinde\" geri arama özelliklerine sahip olmasını sağlayan bir kütüphanedir. Bunlar, temel olarak size gözlemleme yöntemini kullanarak bir işleve bir olayı bağlama için farklı bir yöntem veren IPython özellikleridir.Bir özellik nasıl kullanabileceğiniz hakkında fikir edinmek için, Jupyter Notebook'umuzda aşağıdaki kodu çalıştıralım:"
   ]
  },
  {
   "cell_type": "code",
   "execution_count": 27,
   "metadata": {},
   "outputs": [
    {
     "name": "stdout",
     "output_type": "stream",
     "text": [
      "Setup a handler to be called when a trait changes.\n",
      "\n",
      "        This is used to setup dynamic notifications of trait changes.\n",
      "\n",
      "        Parameters\n",
      "        ----------\n",
      "        handler : callable\n",
      "            A callable that is called when a trait changes. Its\n",
      "            signature should be ``handler(change)``, where ``change`` is a\n",
      "            dictionary. The change dictionary at least holds a 'type' key.\n",
      "            * ``type``: the type of notification.\n",
      "            Other keys may be passed depending on the value of 'type'. In the\n",
      "            case where type is 'change', we also have the following keys:\n",
      "            * ``owner`` : the HasTraits instance\n",
      "            * ``old`` : the old value of the modified trait attribute\n",
      "            * ``new`` : the new value of the modified trait attribute\n",
      "            * ``name`` : the name of the modified trait attribute.\n",
      "        names : list, str, All\n",
      "            If names is All, the handler will apply to all traits.  If a list\n",
      "            of str, handler will apply to all names in the list.  If a\n",
      "            str, the handler will apply just to that name.\n",
      "        type : str, All (default: 'change')\n",
      "            The type of notification to filter by. If equal to All, then all\n",
      "            notifications are passed to the observe handler.\n",
      "        \n"
     ]
    }
   ],
   "source": [
    "print(btn.observe.__doc__)"
   ]
  },
  {
   "cell_type": "markdown",
   "metadata": {},
   "source": [
    "Peki bu nasıl çalışıyor? Temel olarak gözlemlemek(observe), bağlamak istediğiniz işlevin adının yanı sıra hangi özellikleri \"gözlemlemek\" istediğinizi de denir.Bir dize listesine geçebilir, \"Tümü\" olarak ayarlayabilir veya tekil bir dize geçirebilirsiniz. Aşağıdaki örneği inceleyelim."
   ]
  },
  {
   "cell_type": "raw",
   "metadata": {},
   "source": [
    "int_range = widgets.IntSlider()\n",
    "display(int_range)\n",
    "def on_value_change(change):\n",
    "    print(change)\n",
    "    print(change['new'])\n",
    "int_range.observe(on_value_change, names='value')"
   ]
  },
  {
   "cell_type": "markdown",
   "metadata": {},
   "source": [
    "![Screenshot_19](https://user-images.githubusercontent.com/61363621/76709178-9e856700-670d-11ea-9764-8755f988321e.png)"
   ]
  },
  {
   "cell_type": "markdown",
   "metadata": {},
   "source": [
    "Kaydırıcıyı değiştirdiğinizde çıkış yukarıdaki gibi görünür.Bu, değişiklik bağımsız değişkeninin bir değerler sözlüğü olduğunu ve yeni anahtarın bize kaydırıcının yeni değerini vereceğini söyler.Jupyter'e değer dizesini gözlemlemesini söylediğimizde, bir değerler sözlüğünde gönderilir.İlginç bir şekilde bu sözlük, yeni değere ek olarak kaydırıcının eski değerini de içerir. Örneğin, geri al / yinele gibi bir şey uygulamanız gerekiyorsa bu diğer widget'larda bilmek yararlı olabilir."
   ]
  },
  {
   "cell_type": "markdown",
   "metadata": {},
   "source": [
    "### Layout"
   ]
  },
  {
   "cell_type": "markdown",
   "metadata": {},
   "source": [
    "Jupyter widget'larının bir dizi CSS özelliği ayarlamanıza olanak tanır.Bu özellikler boyut, ekran, kutu modeli, konumlandırma ve daha fazlasını içerir.Widget'larınızın kullanılabilir alana göre boyutları değiştirmesini sağlamak için düzen özelliğini kullanabilirsiniz.Basit bir örneğe bakalım:"
   ]
  },
  {
   "cell_type": "raw",
   "metadata": {},
   "source": [
    "from ipywidgets import Button, Layout\n",
    "from IPython.display import display\n",
    "layout = Layout(width='50%', height='100px')\n",
    "btn = Button(description='(50% width, 100px height) button',layout=layout)\n",
    "display(btn)"
   ]
  },
  {
   "cell_type": "markdown",
   "metadata": {},
   "source": [
    "![Screenshot_20](https://user-images.githubusercontent.com/61363621/76709177-9af1e000-670d-11ea-9d05-e50974bcc523.png)"
   ]
  },
  {
   "cell_type": "markdown",
   "metadata": {},
   "source": [
    "BU örnekte butonu genişliğin % 50'sini ve 100 piksel yüksekliğini alacak şekilde ayarladık."
   ]
  },
  {
   "cell_type": "markdown",
   "metadata": {},
   "source": [
    "Önceki örnekte yaptığımız gibi bir düzen(layout) örneği oluşturarak düzenleri uygulayabilir veya bir widget'ın doğrudan başka bir widget'ın düzenini kullanmasını sağlayabilirsiniz.Göstermek için, önceki örnekte yeni oluşturduğumuz hücrenin altına aşağıdaki kodu ekleyelim:"
   ]
  },
  {
   "cell_type": "markdown",
   "metadata": {},
   "source": [
    "btn2 = Button(description='Another button', layout=btn.layout)\n",
    "display(btn2)"
   ]
  },
  {
   "cell_type": "markdown",
   "metadata": {},
   "source": [
    "![Screenshot_21](https://user-images.githubusercontent.com/61363621/76709189-b65ceb00-670d-11ea-8d6b-01c762a27996.png)"
   ]
  },
  {
   "cell_type": "markdown",
   "metadata": {},
   "source": [
    "Burada bu yeni butonun düzenini btn.layout olarak ayarladık, bu da temelde yeni butonumuzun orijinal butonun kullandığı düzen nesnesini kullanmasını sağlıyor."
   ]
  }
 ],
 "metadata": {
  "kernelspec": {
   "display_name": "Python 3",
   "language": "python",
   "name": "python3"
  },
  "language_info": {
   "codemirror_mode": {
    "name": "ipython",
    "version": 3
   },
   "file_extension": ".py",
   "mimetype": "text/x-python",
   "name": "python",
   "nbconvert_exporter": "python",
   "pygments_lexer": "ipython3",
   "version": "3.7.4"
  }
 },
 "nbformat": 4,
 "nbformat_minor": 2
}
